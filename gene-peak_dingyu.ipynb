{
 "cells": [
  {
   "cell_type": "code",
   "execution_count": 2,
   "id": "691816a4-7620-42cb-afb6-8d66e029c70a",
   "metadata": {},
   "outputs": [],
   "source": [
    "from torch_geometric.data import HeteroData"
   ]
  },
  {
   "cell_type": "code",
   "execution_count": 3,
   "id": "9ed116c7-0881-4785-bec2-2e08b3285e27",
   "metadata": {},
   "outputs": [],
   "source": [
    "import torch"
   ]
  },
  {
   "cell_type": "code",
   "execution_count": 4,
   "id": "65f5000b-4bc8-4d50-b4e2-92c3fb99d305",
   "metadata": {},
   "outputs": [],
   "source": [
    "import pandas as pd\n",
    "import numpy as np\n",
    "import matplotlib.pyplot as plt\n",
    "import os"
   ]
  },
  {
   "cell_type": "markdown",
   "id": "e1c31548-c283-47da-b15a-81245896217c",
   "metadata": {},
   "source": [
    "# read in peak matrix files"
   ]
  },
  {
   "cell_type": "markdown",
   "id": "b1f87481-1920-4bc2-8f8e-5e895e6fb993",
   "metadata": {
    "jp-MarkdownHeadingCollapsed": true,
    "tags": []
   },
   "source": [
    "## D3"
   ]
  },
  {
   "cell_type": "markdown",
   "id": "2333aebc-41f3-4e2b-b629-f2a7dc0f695f",
   "metadata": {
    "tags": []
   },
   "source": [
    "### general"
   ]
  },
  {
   "cell_type": "code",
   "execution_count": 4,
   "id": "cd1406da-c9a9-4be4-aed6-1e52ccacf9d0",
   "metadata": {},
   "outputs": [],
   "source": [
    "#li = [i for i in os.listdir(\"/lila/data/deyk/fabiha/20231112_dingyu/data/D3_sample_H/old/\") if \"KO\" in i]\n",
    "li = [i for i in os.listdir(\"/lila/data/deyk/fabiha/20231112_dingyu/clusters/d3_mincell50\")]"
   ]
  },
  {
   "cell_type": "code",
   "execution_count": 5,
   "id": "f1e06898-80cc-4f7e-a3e2-246f7a0d29d8",
   "metadata": {},
   "outputs": [],
   "source": [
    "d = dict()\n",
    "ko_deg = []\n",
    "for i in li:\n",
    "    temp = pd.read_csv(f\"/lila/data/deyk/fabiha/20231112_dingyu/clusters/d3_mincell50/{i}\", index_col=0)\n",
    "    if len(temp) > 0: d[i.split(\"_\")[4]] = temp\n",
    "    \n",
    "    temp = temp[temp[\"p_val_adj\"]<0.05]\n",
    "    for deg in list(temp.index):\n",
    "        ko_deg.append([i.split(\"_\")[4], deg])"
   ]
  },
  {
   "cell_type": "code",
   "execution_count": 6,
   "id": "188d14ae-84a7-4925-aeed-e91ef3e5b65c",
   "metadata": {},
   "outputs": [],
   "source": [
    "ko_deg = pd.DataFrame(ko_deg)"
   ]
  },
  {
   "cell_type": "code",
   "execution_count": 7,
   "id": "dc20692e-b97d-422f-a5b7-3816d44729a2",
   "metadata": {},
   "outputs": [],
   "source": [
    "ko_deg.columns = [\"KO\", \"DEG\"]"
   ]
  },
  {
   "cell_type": "code",
   "execution_count": 8,
   "id": "cc37c7cd-5578-44ac-886c-7dac72dfad50",
   "metadata": {},
   "outputs": [
    {
     "data": {
      "text/plain": [
       "False"
      ]
     },
     "execution_count": 8,
     "metadata": {},
     "output_type": "execute_result"
    }
   ],
   "source": [
    "\"BSN\" in list(ko_deg[\"KO\"].unique()) + list(ko_deg[\"DEG\"].unique())"
   ]
  },
  {
   "cell_type": "code",
   "execution_count": 10,
   "id": "e681a5ef-bd3b-4464-8cf5-5f4d4e22277d",
   "metadata": {},
   "outputs": [],
   "source": [
    "ko_deg.to_csv(\"/lila/data/deyk/fabiha/20231112_dingyu/d3_ko_deg_padj05.tsv\", sep=\"\\t\", index=False)"
   ]
  },
  {
   "cell_type": "code",
   "execution_count": null,
   "id": "a1d042e3-6fa1-4b27-8fe5-7aaefeb9cf0d",
   "metadata": {},
   "outputs": [],
   "source": []
  },
  {
   "cell_type": "markdown",
   "id": "a6edf963-098e-42fa-aa93-8cfa0fedb378",
   "metadata": {
    "tags": []
   },
   "source": [
    "### de1"
   ]
  },
  {
   "cell_type": "code",
   "execution_count": 11,
   "id": "58db60fe-4a10-4ddc-a48e-a58919dcc430",
   "metadata": {},
   "outputs": [],
   "source": [
    "li = [i for i in os.listdir(\"/lila/data/deyk/fabiha/20231112_dingyu/data/D3_sample_H_de1/\")]"
   ]
  },
  {
   "cell_type": "code",
   "execution_count": 12,
   "id": "ea7cf5d8-50a1-45d6-aea8-096b2bc18892",
   "metadata": {},
   "outputs": [],
   "source": [
    "d = dict()\n",
    "ko_deg = []\n",
    "for i in li:\n",
    "    temp = pd.read_csv(f\"/lila/data/deyk/fabiha/20231112_dingyu/data/D3_sample_H_de1/{i}\", index_col=0)\n",
    "    if len(temp) > 0: d[i.split(\"_\")[-1].split(\".\")[0]] = temp\n",
    "    \n",
    "    temp = temp[temp[\"p_val_adj\"]<0.05]\n",
    "    for deg in list(temp.index):\n",
    "        ko_deg.append([i.split(\"_\")[2], deg])"
   ]
  },
  {
   "cell_type": "code",
   "execution_count": 13,
   "id": "7fbd18ec-ea35-4ee0-b997-b4af973a2bdf",
   "metadata": {},
   "outputs": [],
   "source": [
    "ko_deg = pd.DataFrame(ko_deg)"
   ]
  },
  {
   "cell_type": "code",
   "execution_count": 14,
   "id": "a64168cd-835c-4a0a-a740-6bea8a714353",
   "metadata": {},
   "outputs": [],
   "source": [
    "ko_deg.columns = [\"KO\", \"DEG\"]"
   ]
  },
  {
   "cell_type": "code",
   "execution_count": 16,
   "id": "64825772-9708-43da-a75b-15e5e49dcb8d",
   "metadata": {},
   "outputs": [],
   "source": [
    "ko_deg.to_csv(\"/lila/data/deyk/fabiha/20231112_dingyu/d3_de1_ko_deg_padj05.tsv\", sep=\"\\t\", index=False)"
   ]
  },
  {
   "cell_type": "code",
   "execution_count": null,
   "id": "36e9fbea-1fea-4ae2-9aa2-ca6fe37637b8",
   "metadata": {},
   "outputs": [],
   "source": []
  },
  {
   "cell_type": "markdown",
   "id": "41dd24a4-903c-4804-87c7-7b82aabf5d52",
   "metadata": {
    "tags": []
   },
   "source": [
    "### de2"
   ]
  },
  {
   "cell_type": "code",
   "execution_count": 17,
   "id": "63fd99aa-904a-45fe-898d-750fa9020fff",
   "metadata": {},
   "outputs": [],
   "source": [
    "li = [i for i in os.listdir(\"/lila/data/deyk/fabiha/20231112_dingyu/data/D3_sample_H_de2/\")]"
   ]
  },
  {
   "cell_type": "code",
   "execution_count": 18,
   "id": "bf924c6a-ea6b-4074-ab58-e2e8d72e95e1",
   "metadata": {},
   "outputs": [],
   "source": [
    "d = dict()\n",
    "ko_deg = []\n",
    "for i in li:\n",
    "    temp = pd.read_csv(f\"/lila/data/deyk/fabiha/20231112_dingyu/data/D3_sample_H_de2/{i}\", index_col=0)\n",
    "    if len(temp) > 0: d[i.split(\"_\")[-1].split(\".\")[0]] = temp\n",
    "    \n",
    "    temp = temp[temp[\"p_val_adj\"]<0.05]\n",
    "    for deg in list(temp.index):\n",
    "        ko_deg.append([i.split(\"_\")[2], deg])"
   ]
  },
  {
   "cell_type": "code",
   "execution_count": 19,
   "id": "746dba13-0aaa-43d9-af16-18735e18f0c3",
   "metadata": {},
   "outputs": [],
   "source": [
    "ko_deg = pd.DataFrame(ko_deg)"
   ]
  },
  {
   "cell_type": "code",
   "execution_count": 20,
   "id": "50e5bf4a-5e9b-42cd-b388-b0ce4b3b0136",
   "metadata": {},
   "outputs": [],
   "source": [
    "ko_deg.columns = [\"KO\", \"DEG\"]"
   ]
  },
  {
   "cell_type": "code",
   "execution_count": 22,
   "id": "1811b6a0-c522-4cfc-a379-e36aab920982",
   "metadata": {},
   "outputs": [],
   "source": [
    "ko_deg.to_csv(\"/lila/data/deyk/fabiha/20231112_dingyu/d3_de2_ko_deg_padj05.tsv\", sep=\"\\t\", index=False)"
   ]
  },
  {
   "cell_type": "code",
   "execution_count": null,
   "id": "3b5a9bd8-5c34-4d78-b2ce-af0c827ae9ae",
   "metadata": {},
   "outputs": [],
   "source": []
  },
  {
   "cell_type": "markdown",
   "id": "a1650d07-8db3-42f1-bcc8-2dcee8e1a306",
   "metadata": {
    "jp-MarkdownHeadingCollapsed": true,
    "tags": []
   },
   "source": [
    "## D7"
   ]
  },
  {
   "cell_type": "markdown",
   "id": "41cfe166-64b5-470b-8cfd-eddc1b88d71d",
   "metadata": {
    "tags": []
   },
   "source": [
    "### general"
   ]
  },
  {
   "cell_type": "code",
   "execution_count": 23,
   "id": "81ae2a0d-3829-4d93-9334-d58acc44db16",
   "metadata": {},
   "outputs": [],
   "source": [
    "li = [i for i in os.listdir(\"/lila/data/deyk/fabiha/20231112_dingyu/clusters/d7_mincell50\")]"
   ]
  },
  {
   "cell_type": "code",
   "execution_count": 24,
   "id": "381dceef-e269-4364-bf28-f6d00f5213ce",
   "metadata": {},
   "outputs": [],
   "source": [
    "d = dict()\n",
    "ko_deg = []\n",
    "for i in li:\n",
    "    temp = pd.read_csv(f\"/lila/data/deyk/fabiha/20231112_dingyu/clusters/d7_mincell50/{i}\", index_col=0)\n",
    "    if len(temp) > 0: d[i.split(\"_\")[4]] = temp\n",
    "    \n",
    "    temp = temp[temp[\"p_val_adj\"]<0.05]\n",
    "    for deg in list(temp.index):\n",
    "        ko_deg.append([i.split(\"_\")[4], deg])"
   ]
  },
  {
   "cell_type": "code",
   "execution_count": 25,
   "id": "201171ad-1466-4eab-843f-f5092a52c68b",
   "metadata": {},
   "outputs": [],
   "source": [
    "ko_deg = pd.DataFrame(ko_deg)"
   ]
  },
  {
   "cell_type": "code",
   "execution_count": 26,
   "id": "2a82f937-1da2-401f-88db-1ea44763c8f0",
   "metadata": {},
   "outputs": [],
   "source": [
    "ko_deg.columns = [\"KO\", \"DEG\"]"
   ]
  },
  {
   "cell_type": "code",
   "execution_count": 27,
   "id": "ff00db17-5d15-4f63-8ca8-3b561a04d5a7",
   "metadata": {},
   "outputs": [
    {
     "data": {
      "text/plain": [
       "False"
      ]
     },
     "execution_count": 27,
     "metadata": {},
     "output_type": "execute_result"
    }
   ],
   "source": [
    "\"BSN\" in list(ko_deg[\"KO\"].unique()) + list(ko_deg[\"DEG\"].unique())"
   ]
  },
  {
   "cell_type": "code",
   "execution_count": 28,
   "id": "4955e0da-b277-4fdd-9cba-31577aabd086",
   "metadata": {},
   "outputs": [
    {
     "data": {
      "text/plain": [
       "(False, False)"
      ]
     },
     "execution_count": 28,
     "metadata": {},
     "output_type": "execute_result"
    }
   ],
   "source": [
    "\"BSN\" in list(ko_deg[\"KO\"].unique()), \"BSN\" in list(ko_deg[\"DEG\"].unique())"
   ]
  },
  {
   "cell_type": "code",
   "execution_count": 30,
   "id": "600b583f-4b97-4ada-8e1c-7006b1530fff",
   "metadata": {},
   "outputs": [],
   "source": [
    "ko_deg.to_csv(\"/lila/data/deyk/fabiha/20231112_dingyu/d7_ko_deg_padj05.tsv\", sep=\"\\t\", index=False)"
   ]
  },
  {
   "cell_type": "code",
   "execution_count": null,
   "id": "cda58a41-1b5c-4c36-8a93-9396a56f52a6",
   "metadata": {},
   "outputs": [],
   "source": []
  },
  {
   "cell_type": "markdown",
   "id": "ad331f6b-67ef-44c6-af77-06448658fcf7",
   "metadata": {
    "tags": []
   },
   "source": [
    "### liver"
   ]
  },
  {
   "cell_type": "code",
   "execution_count": 31,
   "id": "13f1daf1-9dff-4c8e-a66e-570b070cbd96",
   "metadata": {},
   "outputs": [],
   "source": [
    "li = [i for i in os.listdir(\"/lila/data/deyk/fabiha/20231112_dingyu/data/D7_sample_I_liver/\")]"
   ]
  },
  {
   "cell_type": "code",
   "execution_count": 32,
   "id": "420b2a80-6b36-4fb6-8c90-dac26b27ec69",
   "metadata": {},
   "outputs": [],
   "source": [
    "d = dict()\n",
    "ko_deg = []\n",
    "for i in li:\n",
    "    temp = pd.read_csv(f\"/lila/data/deyk/fabiha/20231112_dingyu/data/D7_sample_I_liver/{i}\", index_col=0)\n",
    "    if len(temp) > 0: d[i.split(\"_\")[-1].split(\".\")[0]] = temp\n",
    "    \n",
    "    temp = temp[temp[\"p_val_adj\"]<0.05]\n",
    "    for deg in list(temp.index):\n",
    "        ko_deg.append([i.split(\"_\")[1], deg])"
   ]
  },
  {
   "cell_type": "code",
   "execution_count": 33,
   "id": "04f92518-ec90-46e8-8895-01122a812546",
   "metadata": {},
   "outputs": [],
   "source": [
    "ko_deg = pd.DataFrame(ko_deg)"
   ]
  },
  {
   "cell_type": "code",
   "execution_count": 34,
   "id": "4f6fbbc9-9a1d-45f1-899c-9c228a8fc85e",
   "metadata": {},
   "outputs": [],
   "source": [
    "ko_deg.columns = [\"KO\", \"DEG\"]"
   ]
  },
  {
   "cell_type": "code",
   "execution_count": 36,
   "id": "843653e1-2e4a-4136-8001-548137d5bd02",
   "metadata": {},
   "outputs": [],
   "source": [
    "ko_deg.to_csv(\"/lila/data/deyk/fabiha/20231112_dingyu/d7_liver_ko_deg_padj05.tsv\", sep=\"\\t\", index=False)"
   ]
  },
  {
   "cell_type": "code",
   "execution_count": null,
   "id": "30b59f5c-eef6-4519-8ab3-dc0b1d9048b6",
   "metadata": {},
   "outputs": [],
   "source": []
  },
  {
   "cell_type": "markdown",
   "id": "71a04be3-3df9-4d96-a80a-891c9f729a22",
   "metadata": {
    "tags": []
   },
   "source": [
    "### pfg1"
   ]
  },
  {
   "cell_type": "code",
   "execution_count": 37,
   "id": "1812b5cd-ca7d-4ee8-8f64-d017f7a581ca",
   "metadata": {},
   "outputs": [],
   "source": [
    "li = [i for i in os.listdir(\"/lila/data/deyk/fabiha/20231112_dingyu/data/D7_sample_I_pfg1/\")]"
   ]
  },
  {
   "cell_type": "code",
   "execution_count": 38,
   "id": "dc7ab72a-a75d-47bb-827d-92c2ff7bc734",
   "metadata": {},
   "outputs": [],
   "source": [
    "d = dict()\n",
    "ko_deg = []\n",
    "for i in li:\n",
    "    temp = pd.read_csv(f\"/lila/data/deyk/fabiha/20231112_dingyu/data/D7_sample_I_pfg1/{i}\", index_col=0)\n",
    "    if len(temp) > 0: d[i.split(\"_\")[-1].split(\".\")[0]] = temp\n",
    "    \n",
    "    temp = temp[temp[\"p_val_adj\"]<0.05]\n",
    "    for deg in list(temp.index):\n",
    "        ko_deg.append([i.split(\"_\")[3], deg])"
   ]
  },
  {
   "cell_type": "code",
   "execution_count": 39,
   "id": "07c4d8f7-1a8f-4ed0-a8cc-15241ecd0771",
   "metadata": {},
   "outputs": [],
   "source": [
    "ko_deg = pd.DataFrame(ko_deg)"
   ]
  },
  {
   "cell_type": "code",
   "execution_count": 40,
   "id": "8da02c0d-95b2-4ffd-8298-2b3af433c185",
   "metadata": {},
   "outputs": [],
   "source": [
    "ko_deg.columns = [\"KO\", \"DEG\"]"
   ]
  },
  {
   "cell_type": "code",
   "execution_count": 42,
   "id": "9a88941d-fe4e-4b0a-8465-0a448a263074",
   "metadata": {},
   "outputs": [],
   "source": [
    "ko_deg.to_csv(\"/lila/data/deyk/fabiha/20231112_dingyu/d7_pfg1_ko_deg_padj05.tsv\", sep=\"\\t\", index=False)"
   ]
  },
  {
   "cell_type": "code",
   "execution_count": null,
   "id": "fa6574d4-bd73-4a7d-813e-1ec971908a83",
   "metadata": {},
   "outputs": [],
   "source": []
  },
  {
   "cell_type": "markdown",
   "id": "6c07e147-203e-4cff-a547-91dc749b0baf",
   "metadata": {
    "tags": []
   },
   "source": [
    "### pfg2"
   ]
  },
  {
   "cell_type": "code",
   "execution_count": 43,
   "id": "abe089eb-2efc-42db-8487-544923f3e95d",
   "metadata": {},
   "outputs": [],
   "source": [
    "li = [i for i in os.listdir(\"/lila/data/deyk/fabiha/20231112_dingyu/data/D7_sample_I_pfg2/\")]"
   ]
  },
  {
   "cell_type": "code",
   "execution_count": 44,
   "id": "8e9a40ed-bdda-4cdc-8392-e1b58ac59982",
   "metadata": {},
   "outputs": [],
   "source": [
    "d = dict()\n",
    "ko_deg = []\n",
    "for i in li:\n",
    "    temp = pd.read_csv(f\"/lila/data/deyk/fabiha/20231112_dingyu/data/D7_sample_I_pfg2/{i}\", index_col=0)\n",
    "    if len(temp) > 0: d[i.split(\"_\")[-1].split(\".\")[0]] = temp\n",
    "    \n",
    "    temp = temp[temp[\"p_val_adj\"]<0.05]\n",
    "    for deg in list(temp.index):\n",
    "        ko_deg.append([i.split(\"_\")[3], deg])"
   ]
  },
  {
   "cell_type": "code",
   "execution_count": 45,
   "id": "64f7bc46-a703-4047-9e22-fcf86877f73f",
   "metadata": {},
   "outputs": [],
   "source": [
    "ko_deg = pd.DataFrame(ko_deg)"
   ]
  },
  {
   "cell_type": "code",
   "execution_count": 46,
   "id": "24c79bd4-03c6-4018-b24f-c4b3fcb9bedf",
   "metadata": {},
   "outputs": [],
   "source": [
    "ko_deg.columns = [\"KO\", \"DEG\"]"
   ]
  },
  {
   "cell_type": "code",
   "execution_count": 48,
   "id": "2fe3f216-c7e6-4572-84a4-ff65e249a9ac",
   "metadata": {},
   "outputs": [],
   "source": [
    "ko_deg.to_csv(\"/lila/data/deyk/fabiha/20231112_dingyu/d7_pfg2_ko_deg_padj05.tsv\", sep=\"\\t\", index=False)"
   ]
  },
  {
   "cell_type": "code",
   "execution_count": null,
   "id": "48bfe755-6927-435d-8e00-547b2f89a6ef",
   "metadata": {},
   "outputs": [],
   "source": []
  },
  {
   "cell_type": "markdown",
   "id": "9234853e-ab10-429e-a576-e7cff919ade9",
   "metadata": {
    "tags": []
   },
   "source": [
    "## D11"
   ]
  },
  {
   "cell_type": "markdown",
   "id": "08645ea1-70f0-4bbb-b847-a59a8508034b",
   "metadata": {
    "tags": []
   },
   "source": [
    "### general"
   ]
  },
  {
   "cell_type": "code",
   "execution_count": 17,
   "id": "c2a2f482-08a5-4409-8ea7-14751d5b372e",
   "metadata": {},
   "outputs": [],
   "source": [
    "li = [i for i in os.listdir(\"/lila/data/deyk/fabiha/20231112_dingyu/clusters/d11_mincell50\")]"
   ]
  },
  {
   "cell_type": "code",
   "execution_count": 18,
   "id": "5f49b926-bec1-45ff-8699-dbaf85387c24",
   "metadata": {},
   "outputs": [],
   "source": [
    "d = dict()\n",
    "ko_deg = []\n",
    "for i in li:\n",
    "    temp = pd.read_csv(f\"/lila/data/deyk/fabiha/20231112_dingyu/clusters/d11_mincell50/{i}\", index_col=0)\n",
    "    if len(temp) > 0: d[i.split(\"_\")[4]] = temp\n",
    "    \n",
    "    temp = temp[temp[\"p_val_adj\"]<0.05]\n",
    "    for deg in list(temp.index):\n",
    "        ko_deg.append([i.split(\"_\")[4], deg])"
   ]
  },
  {
   "cell_type": "code",
   "execution_count": 19,
   "id": "6478e181-a23c-4653-99b3-d11ac20d5606",
   "metadata": {},
   "outputs": [],
   "source": [
    "ko_deg = pd.DataFrame(ko_deg)"
   ]
  },
  {
   "cell_type": "code",
   "execution_count": 20,
   "id": "99d76418-bb5e-4ffc-9e2c-ed1a18a85f40",
   "metadata": {},
   "outputs": [],
   "source": [
    "ko_deg.columns = [\"KO\", \"DEG\"]"
   ]
  },
  {
   "cell_type": "code",
   "execution_count": 21,
   "id": "824b19a3-8bda-47c1-96fd-68b273d26c1d",
   "metadata": {
    "scrolled": true,
    "tags": []
   },
   "outputs": [
    {
     "data": {
      "text/plain": [
       "{'ARX',\n",
       " 'BCOR',\n",
       " 'BMPR1A',\n",
       " 'FOXA1',\n",
       " 'FOXA2',\n",
       " 'GATA4',\n",
       " 'GATA4het',\n",
       " 'GATA6',\n",
       " 'GATA6het',\n",
       " 'GLIS3',\n",
       " 'GSC',\n",
       " 'HHEXe',\n",
       " 'HNF4A',\n",
       " 'MNX1',\n",
       " 'NANOGe',\n",
       " 'NEUROD1',\n",
       " 'NGN3',\n",
       " 'NKX2-2',\n",
       " 'NKX6-1',\n",
       " 'ONECUT1e',\n",
       " 'OTUD5',\n",
       " 'PAX6',\n",
       " 'PBX1',\n",
       " 'PDX1',\n",
       " 'PDX1het',\n",
       " 'PROSER1',\n",
       " 'QSER1',\n",
       " 'RFX6',\n",
       " 'TADA2B',\n",
       " 'TET1',\n",
       " 'TET1-2-3',\n",
       " 'TLE3'}"
      ]
     },
     "execution_count": 21,
     "metadata": {},
     "output_type": "execute_result"
    }
   ],
   "source": [
    "set(ko_deg[\"KO\"])"
   ]
  },
  {
   "cell_type": "code",
   "execution_count": 53,
   "id": "f09c1436-9f9a-48fa-9aff-59fbb2c346d2",
   "metadata": {},
   "outputs": [
    {
     "data": {
      "text/plain": [
       "False"
      ]
     },
     "execution_count": 53,
     "metadata": {},
     "output_type": "execute_result"
    }
   ],
   "source": [
    "\"BSN\" in list(ko_deg[\"KO\"].unique()) + list(ko_deg[\"DEG\"].unique())"
   ]
  },
  {
   "cell_type": "code",
   "execution_count": 55,
   "id": "2e259727-344a-4485-a399-7e3e986e2217",
   "metadata": {},
   "outputs": [],
   "source": [
    "ko_deg.to_csv(\"/lila/data/deyk/fabiha/20231112_dingyu/d11_ko_deg_padj05.tsv\", sep=\"\\t\", index=False)"
   ]
  },
  {
   "cell_type": "code",
   "execution_count": null,
   "id": "69cd7bf4-5e4f-4277-bf81-ba832373ba3d",
   "metadata": {},
   "outputs": [],
   "source": []
  },
  {
   "cell_type": "markdown",
   "id": "a09f2938-cb4b-408b-89a6-146098834123",
   "metadata": {
    "tags": []
   },
   "source": [
    "### ep"
   ]
  },
  {
   "cell_type": "code",
   "execution_count": 56,
   "id": "c1718590-ac9b-4f4c-8bb3-bdcac939af8f",
   "metadata": {},
   "outputs": [],
   "source": [
    "li = [i for i in os.listdir(\"/lila/data/deyk/fabiha/20231112_dingyu/data/D11_sample_J_ep/\")]"
   ]
  },
  {
   "cell_type": "code",
   "execution_count": 57,
   "id": "0f02a472-c296-4fa6-b8fa-f1e5a2361b41",
   "metadata": {},
   "outputs": [],
   "source": [
    "d = dict()\n",
    "ko_deg = []\n",
    "for i in li:\n",
    "    temp = pd.read_csv(f\"/lila/data/deyk/fabiha/20231112_dingyu/data/D11_sample_J_ep/{i}\", index_col=0)\n",
    "    if len(temp) > 0: d[i.split(\"_\")[-1].split(\".\")[0]] = temp\n",
    "    \n",
    "    temp = temp[temp[\"p_val_adj\"]<0.05]\n",
    "    for deg in list(temp.index):\n",
    "        ko_deg.append([i.split(\"_\")[2], deg])"
   ]
  },
  {
   "cell_type": "code",
   "execution_count": 58,
   "id": "729ef900-f84d-4a98-bc4a-65c784bedba9",
   "metadata": {},
   "outputs": [],
   "source": [
    "ko_deg = pd.DataFrame(ko_deg)"
   ]
  },
  {
   "cell_type": "code",
   "execution_count": 59,
   "id": "e30bd137-b9dd-4278-aa84-5cd734f4a05c",
   "metadata": {},
   "outputs": [],
   "source": [
    "ko_deg.columns = [\"KO\", \"DEG\"]"
   ]
  },
  {
   "cell_type": "code",
   "execution_count": 61,
   "id": "409e785d-b1b2-46bb-a4ba-7d87c56a54ed",
   "metadata": {},
   "outputs": [],
   "source": [
    "ko_deg.to_csv(\"/lila/data/deyk/fabiha/20231112_dingyu/d11_ep_ko_deg_padj05.tsv\", sep=\"\\t\", index=False)"
   ]
  },
  {
   "cell_type": "code",
   "execution_count": null,
   "id": "a79db693-9443-48df-ab1e-e6c787d3cf65",
   "metadata": {},
   "outputs": [],
   "source": []
  },
  {
   "cell_type": "markdown",
   "id": "1d41f8a0-3f47-48ab-8799-208869bf39e3",
   "metadata": {
    "tags": []
   },
   "source": [
    "### pp1"
   ]
  },
  {
   "cell_type": "code",
   "execution_count": 62,
   "id": "bbabbd8b-e69b-40ad-8f33-f2501153abb4",
   "metadata": {},
   "outputs": [],
   "source": [
    "li = [i for i in os.listdir(\"/lila/data/deyk/fabiha/20231112_dingyu/data/D11_sample_J_pp1/\")]"
   ]
  },
  {
   "cell_type": "code",
   "execution_count": 63,
   "id": "48a9c58b-57bc-4412-bfc6-ab485506e2c4",
   "metadata": {},
   "outputs": [],
   "source": [
    "d = dict()\n",
    "ko_deg = []\n",
    "for i in li:\n",
    "    temp = pd.read_csv(f\"/lila/data/deyk/fabiha/20231112_dingyu/data/D11_sample_J_pp1/{i}\", index_col=0)\n",
    "    if len(temp) > 0: d[i.split(\"_\")[-1].split(\".\")[0]] = temp\n",
    "    \n",
    "    temp = temp[temp[\"p_val_adj\"]<0.05]\n",
    "    for deg in list(temp.index):\n",
    "        ko_deg.append([i.split(\"_\")[3], deg])"
   ]
  },
  {
   "cell_type": "code",
   "execution_count": 64,
   "id": "fa9a2658-48f9-49be-ad90-c67e1e671a27",
   "metadata": {},
   "outputs": [],
   "source": [
    "ko_deg = pd.DataFrame(ko_deg)"
   ]
  },
  {
   "cell_type": "code",
   "execution_count": 65,
   "id": "e1447080-1575-445d-af31-ac88479fcf82",
   "metadata": {},
   "outputs": [],
   "source": [
    "ko_deg.columns = [\"KO\", \"DEG\"]"
   ]
  },
  {
   "cell_type": "code",
   "execution_count": 67,
   "id": "3476d887-dc43-4617-b667-e1d81c6cffb9",
   "metadata": {},
   "outputs": [],
   "source": [
    "ko_deg.to_csv(\"/lila/data/deyk/fabiha/20231112_dingyu/d11_pp1_ko_deg_padj05.tsv\", sep=\"\\t\", index=False)"
   ]
  },
  {
   "cell_type": "code",
   "execution_count": null,
   "id": "0d633103-561c-4f83-965e-083d434ee3bd",
   "metadata": {},
   "outputs": [],
   "source": []
  },
  {
   "cell_type": "markdown",
   "id": "9fe74f83-d758-4147-bf8d-9dd73b649a69",
   "metadata": {
    "tags": []
   },
   "source": [
    "### pp2"
   ]
  },
  {
   "cell_type": "code",
   "execution_count": 68,
   "id": "43a91c8c-2aa8-470a-8ef0-166372ebb828",
   "metadata": {},
   "outputs": [],
   "source": [
    "li = [i for i in os.listdir(\"/lila/data/deyk/fabiha/20231112_dingyu/data/D11_sample_J_pp2/\")]"
   ]
  },
  {
   "cell_type": "code",
   "execution_count": 69,
   "id": "0a26246c-1a3a-4419-a75f-bde6506648ce",
   "metadata": {},
   "outputs": [],
   "source": [
    "d = dict()\n",
    "ko_deg = []\n",
    "for i in li:\n",
    "    temp = pd.read_csv(f\"/lila/data/deyk/fabiha/20231112_dingyu/data/D11_sample_J_pp2/{i}\", index_col=0)\n",
    "    if len(temp) > 0: d[i.split(\"_\")[-1].split(\".\")[0]] = temp\n",
    "    \n",
    "    temp = temp[temp[\"p_val_adj\"]<0.05]\n",
    "    for deg in list(temp.index):\n",
    "        ko_deg.append([i.split(\"_\")[3], deg])"
   ]
  },
  {
   "cell_type": "code",
   "execution_count": 70,
   "id": "1aa527b5-534a-41bf-a9fb-1e2d89f23bd8",
   "metadata": {},
   "outputs": [],
   "source": [
    "ko_deg = pd.DataFrame(ko_deg)"
   ]
  },
  {
   "cell_type": "code",
   "execution_count": 71,
   "id": "419c168f-4c56-4c9b-bb48-b5291a7d447b",
   "metadata": {},
   "outputs": [],
   "source": [
    "ko_deg.columns = [\"KO\", \"DEG\"]"
   ]
  },
  {
   "cell_type": "code",
   "execution_count": 73,
   "id": "c1e413a5-b536-4ccb-8e5a-02282b1a2837",
   "metadata": {},
   "outputs": [],
   "source": [
    "ko_deg.to_csv(\"/lila/data/deyk/fabiha/20231112_dingyu/d11_pp2_ko_deg_padj05.tsv\", sep=\"\\t\", index=False)"
   ]
  },
  {
   "cell_type": "code",
   "execution_count": null,
   "id": "bd1dfa24-d812-4b10-ac9f-0d636932eae8",
   "metadata": {},
   "outputs": [],
   "source": []
  },
  {
   "cell_type": "markdown",
   "id": "4b03f3df-a893-4e50-a211-959b68e0661e",
   "metadata": {
    "tags": []
   },
   "source": [
    "## D18"
   ]
  },
  {
   "cell_type": "code",
   "execution_count": 5,
   "id": "fa31fece-be60-4c9f-bcba-599756005e71",
   "metadata": {},
   "outputs": [],
   "source": [
    "top_200 = dict()\n",
    "prog_names = pd.read_csv(\"/lila/data/deyk/fabiha/20231112_dingyu/data/D18_sample_L_celltype_programs.txt\", header=None)[0].to_list()\n",
    "for f in prog_names:\n",
    "    top_200[f.split(\"_\")[-1].split(\".\")[0]] = pd.read_csv(f, header=None)[0].to_list()"
   ]
  },
  {
   "cell_type": "code",
   "execution_count": 6,
   "id": "4f6c1ad4-f50d-4a4a-bee5-bcee0f567970",
   "metadata": {},
   "outputs": [
    {
     "data": {
      "text/plain": [
       "dict_keys(['ep', 'scalpha', 'scbeta', 'scdelta', 'scec'])"
      ]
     },
     "execution_count": 6,
     "metadata": {},
     "output_type": "execute_result"
    }
   ],
   "source": [
    "top_200.keys()"
   ]
  },
  {
   "cell_type": "markdown",
   "id": "c4d48b36-a07c-446b-89e5-d881fc94edef",
   "metadata": {
    "tags": []
   },
   "source": [
    "### general"
   ]
  },
  {
   "cell_type": "code",
   "execution_count": 22,
   "id": "b48468b0-157f-452e-9cb4-3016d80171dc",
   "metadata": {},
   "outputs": [],
   "source": [
    "li = [i for i in os.listdir(\"/lila/data/deyk/fabiha/20231112_dingyu/data/D18_sample_L\")]"
   ]
  },
  {
   "cell_type": "code",
   "execution_count": 29,
   "id": "b6b99ef3-9528-42a0-8df9-1dcd226139d9",
   "metadata": {},
   "outputs": [],
   "source": [
    "d = dict()\n",
    "ko_deg = []\n",
    "for i in li:\n",
    "    temp = pd.read_csv(f\"/lila/data/deyk/fabiha/20231112_dingyu/data/D18_sample_L/{i}\", index_col=0)\n",
    "    if len(temp) > 0: d[i.split(\"_\")[4]] = temp\n",
    "    \n",
    "    temp = temp[temp[\"p_val_adj\"]<0.05]\n",
    "    for deg in list(temp.index):\n",
    "        ko_deg.append([i.split(\"_\")[1], deg])"
   ]
  },
  {
   "cell_type": "code",
   "execution_count": 30,
   "id": "fe3abcf9-1691-4995-8d9f-6686b377fef0",
   "metadata": {},
   "outputs": [],
   "source": [
    "ko_deg = pd.DataFrame(ko_deg)"
   ]
  },
  {
   "cell_type": "code",
   "execution_count": 31,
   "id": "d8a52996-6b48-4546-8f1f-d814aaa3d9e8",
   "metadata": {},
   "outputs": [],
   "source": [
    "ko_deg.columns = [\"KO\", \"DEG\"]"
   ]
  },
  {
   "cell_type": "code",
   "execution_count": 32,
   "id": "98b7e383-74d4-4c87-9d7d-17a5406be166",
   "metadata": {},
   "outputs": [
    {
     "data": {
      "text/plain": [
       "(False, True)"
      ]
     },
     "execution_count": 32,
     "metadata": {},
     "output_type": "execute_result"
    }
   ],
   "source": [
    "\"BSN\" in list(ko_deg[\"KO\"].unique()), \"BSN\" in list(ko_deg[\"DEG\"].unique())"
   ]
  },
  {
   "cell_type": "code",
   "execution_count": 33,
   "id": "15d70267-a1cf-470a-bea4-1fc9b53fb33a",
   "metadata": {},
   "outputs": [
    {
     "data": {
      "text/html": [
       "<div>\n",
       "<style scoped>\n",
       "    .dataframe tbody tr th:only-of-type {\n",
       "        vertical-align: middle;\n",
       "    }\n",
       "\n",
       "    .dataframe tbody tr th {\n",
       "        vertical-align: top;\n",
       "    }\n",
       "\n",
       "    .dataframe thead th {\n",
       "        text-align: right;\n",
       "    }\n",
       "</style>\n",
       "<table border=\"1\" class=\"dataframe\">\n",
       "  <thead>\n",
       "    <tr style=\"text-align: right;\">\n",
       "      <th></th>\n",
       "      <th>KO</th>\n",
       "      <th>DEG</th>\n",
       "    </tr>\n",
       "  </thead>\n",
       "  <tbody>\n",
       "    <tr>\n",
       "      <th>2902</th>\n",
       "      <td>RFX6</td>\n",
       "      <td>BSN</td>\n",
       "    </tr>\n",
       "    <tr>\n",
       "      <th>5150</th>\n",
       "      <td>PROSER1</td>\n",
       "      <td>BSN</td>\n",
       "    </tr>\n",
       "    <tr>\n",
       "      <th>7057</th>\n",
       "      <td>GATA4het</td>\n",
       "      <td>BSN</td>\n",
       "    </tr>\n",
       "    <tr>\n",
       "      <th>9179</th>\n",
       "      <td>BMPR1A</td>\n",
       "      <td>BSN</td>\n",
       "    </tr>\n",
       "    <tr>\n",
       "      <th>28380</th>\n",
       "      <td>NKX2-2</td>\n",
       "      <td>BSN</td>\n",
       "    </tr>\n",
       "  </tbody>\n",
       "</table>\n",
       "</div>"
      ],
      "text/plain": [
       "             KO  DEG\n",
       "2902       RFX6  BSN\n",
       "5150    PROSER1  BSN\n",
       "7057   GATA4het  BSN\n",
       "9179     BMPR1A  BSN\n",
       "28380    NKX2-2  BSN"
      ]
     },
     "execution_count": 33,
     "metadata": {},
     "output_type": "execute_result"
    }
   ],
   "source": [
    "ko_deg[ko_deg[\"DEG\"]==\"BSN\"]"
   ]
  },
  {
   "cell_type": "code",
   "execution_count": 34,
   "id": "c4e1a5f6-f533-45c0-8d8f-f2318b2ef3dc",
   "metadata": {
    "scrolled": true,
    "tags": []
   },
   "outputs": [
    {
     "data": {
      "text/plain": [
       "{'ARX',\n",
       " 'BCOR',\n",
       " 'BMPR1A',\n",
       " 'FOXA1',\n",
       " 'FOXA2',\n",
       " 'GATA4',\n",
       " 'GATA4het',\n",
       " 'GATA6',\n",
       " 'GATA6het',\n",
       " 'GLIS3',\n",
       " 'GSC',\n",
       " 'HHEX',\n",
       " 'HHEXe',\n",
       " 'HHEXhet',\n",
       " 'HNF4A',\n",
       " 'KDM2B',\n",
       " 'MNX1',\n",
       " 'NANOGe',\n",
       " 'NEUROD1',\n",
       " 'NGN3',\n",
       " 'NKX2-2',\n",
       " 'NKX6-1',\n",
       " 'ONECUT1e',\n",
       " 'OTUD5',\n",
       " 'PAX6',\n",
       " 'PBX1',\n",
       " 'PDX1',\n",
       " 'PDX1het',\n",
       " 'PROSER1',\n",
       " 'QSER1',\n",
       " 'QSER1TET1',\n",
       " 'RFX6',\n",
       " 'TADA2B',\n",
       " 'TET1',\n",
       " 'TET123',\n",
       " 'TLE3',\n",
       " 'UBA6'}"
      ]
     },
     "execution_count": 34,
     "metadata": {},
     "output_type": "execute_result"
    }
   ],
   "source": [
    "set(ko_deg[\"KO\"])"
   ]
  },
  {
   "cell_type": "code",
   "execution_count": 35,
   "id": "bf41ec11-a628-472f-a46c-c1bddf6f7a19",
   "metadata": {},
   "outputs": [],
   "source": [
    "ko_deg.to_csv(\"/lila/data/deyk/fabiha/20231112_dingyu/d18_ko_deg_padj05.tsv\", sep=\"\\t\", index=False)"
   ]
  },
  {
   "cell_type": "code",
   "execution_count": null,
   "id": "f73f4357-70c0-48bc-934c-70c8ea85e053",
   "metadata": {},
   "outputs": [],
   "source": []
  },
  {
   "cell_type": "markdown",
   "id": "c8526783-46ff-4bb8-a6f6-754c35cca9d6",
   "metadata": {
    "tags": []
   },
   "source": [
    "### ep"
   ]
  },
  {
   "cell_type": "code",
   "execution_count": 12,
   "id": "8203dd24-d6e6-4e47-a55c-5a4b685dc138",
   "metadata": {},
   "outputs": [],
   "source": [
    "li = [i for i in os.listdir(\"/lila/data/deyk/fabiha/20231112_dingyu/data/D18_sample_L_endo/\")]"
   ]
  },
  {
   "cell_type": "code",
   "execution_count": 17,
   "id": "d31010a2-d640-4942-92ef-3297d2effc49",
   "metadata": {},
   "outputs": [],
   "source": [
    "d = dict()\n",
    "ko_deg = []\n",
    "for i in li:\n",
    "    temp = pd.read_csv(f\"/lila/data/deyk/fabiha/20231112_dingyu/data/D18_sample_L_endo/{i}\", index_col=0)\n",
    "    if len(temp) > 0: d[i.split(\"_\")[-1].split(\".\")[0]] = temp\n",
    "    \n",
    "    temp = temp[temp[\"p_val_adj\"]<0.05]\n",
    "    for deg in list(temp.index):\n",
    "        ko_deg.append([i.split(\"_\")[1], deg])"
   ]
  },
  {
   "cell_type": "code",
   "execution_count": 18,
   "id": "9c6387cb-725d-406e-9c9f-9528bb17d92b",
   "metadata": {},
   "outputs": [],
   "source": [
    "ko_deg = pd.DataFrame(ko_deg)"
   ]
  },
  {
   "cell_type": "code",
   "execution_count": 19,
   "id": "bc19e461-dfb3-48e1-b104-7bf5b74b8489",
   "metadata": {},
   "outputs": [],
   "source": [
    "ko_deg.columns = [\"KO\", \"DEG\"]"
   ]
  },
  {
   "cell_type": "code",
   "execution_count": 20,
   "id": "aea99901-ead6-451c-8548-345b68cb0a5c",
   "metadata": {},
   "outputs": [
    {
     "data": {
      "text/html": [
       "<div>\n",
       "<style scoped>\n",
       "    .dataframe tbody tr th:only-of-type {\n",
       "        vertical-align: middle;\n",
       "    }\n",
       "\n",
       "    .dataframe tbody tr th {\n",
       "        vertical-align: top;\n",
       "    }\n",
       "\n",
       "    .dataframe thead th {\n",
       "        text-align: right;\n",
       "    }\n",
       "</style>\n",
       "<table border=\"1\" class=\"dataframe\">\n",
       "  <thead>\n",
       "    <tr style=\"text-align: right;\">\n",
       "      <th></th>\n",
       "      <th>KO</th>\n",
       "      <th>DEG</th>\n",
       "    </tr>\n",
       "  </thead>\n",
       "  <tbody>\n",
       "    <tr>\n",
       "      <th>0</th>\n",
       "      <td>PBX1</td>\n",
       "      <td>AC069277.1</td>\n",
       "    </tr>\n",
       "    <tr>\n",
       "      <th>1</th>\n",
       "      <td>PBX1</td>\n",
       "      <td>AL162493.1</td>\n",
       "    </tr>\n",
       "    <tr>\n",
       "      <th>2</th>\n",
       "      <td>PBX1</td>\n",
       "      <td>LINC01194</td>\n",
       "    </tr>\n",
       "    <tr>\n",
       "      <th>3</th>\n",
       "      <td>PBX1</td>\n",
       "      <td>PEG10</td>\n",
       "    </tr>\n",
       "    <tr>\n",
       "      <th>4</th>\n",
       "      <td>PBX1</td>\n",
       "      <td>MT-CO2</td>\n",
       "    </tr>\n",
       "    <tr>\n",
       "      <th>...</th>\n",
       "      <td>...</td>\n",
       "      <td>...</td>\n",
       "    </tr>\n",
       "    <tr>\n",
       "      <th>14317</th>\n",
       "      <td>MNX1</td>\n",
       "      <td>AC078881.1</td>\n",
       "    </tr>\n",
       "    <tr>\n",
       "      <th>14318</th>\n",
       "      <td>MNX1</td>\n",
       "      <td>PURPL</td>\n",
       "    </tr>\n",
       "    <tr>\n",
       "      <th>14319</th>\n",
       "      <td>MNX1</td>\n",
       "      <td>AC021092.1</td>\n",
       "    </tr>\n",
       "    <tr>\n",
       "      <th>14320</th>\n",
       "      <td>MNX1</td>\n",
       "      <td>ARMC2</td>\n",
       "    </tr>\n",
       "    <tr>\n",
       "      <th>14321</th>\n",
       "      <td>MNX1</td>\n",
       "      <td>GPR27</td>\n",
       "    </tr>\n",
       "  </tbody>\n",
       "</table>\n",
       "<p>14322 rows × 2 columns</p>\n",
       "</div>"
      ],
      "text/plain": [
       "         KO         DEG\n",
       "0      PBX1  AC069277.1\n",
       "1      PBX1  AL162493.1\n",
       "2      PBX1   LINC01194\n",
       "3      PBX1       PEG10\n",
       "4      PBX1      MT-CO2\n",
       "...     ...         ...\n",
       "14317  MNX1  AC078881.1\n",
       "14318  MNX1       PURPL\n",
       "14319  MNX1  AC021092.1\n",
       "14320  MNX1       ARMC2\n",
       "14321  MNX1       GPR27\n",
       "\n",
       "[14322 rows x 2 columns]"
      ]
     },
     "execution_count": 20,
     "metadata": {},
     "output_type": "execute_result"
    }
   ],
   "source": [
    "ko_deg"
   ]
  },
  {
   "cell_type": "code",
   "execution_count": 21,
   "id": "3c0f965e-3f3d-4ea2-a1f7-ff4f5fe83892",
   "metadata": {
    "scrolled": true,
    "tags": []
   },
   "outputs": [
    {
     "data": {
      "text/plain": [
       "{'ARX',\n",
       " 'BCOR',\n",
       " 'FOXA1',\n",
       " 'FOXA2',\n",
       " 'GATA4het',\n",
       " 'GATA6het',\n",
       " 'GSC',\n",
       " 'HNF4A',\n",
       " 'MNX1',\n",
       " 'NANOGe',\n",
       " 'NEUROD1',\n",
       " 'NKX2-2',\n",
       " 'NKX6-1',\n",
       " 'ONECUT1e',\n",
       " 'OTUD5',\n",
       " 'PAX6',\n",
       " 'PBX1',\n",
       " 'PDX1',\n",
       " 'PDX1het',\n",
       " 'PROSER1',\n",
       " 'QSER1',\n",
       " 'QSER1TET1',\n",
       " 'RFX6',\n",
       " 'TADA2B',\n",
       " 'TET1',\n",
       " 'TET123',\n",
       " 'TLE3'}"
      ]
     },
     "execution_count": 21,
     "metadata": {},
     "output_type": "execute_result"
    }
   ],
   "source": [
    "set(ko_deg[\"KO\"])"
   ]
  },
  {
   "cell_type": "code",
   "execution_count": 22,
   "id": "d3be73de-fdcc-4dc6-ace2-cc9a61561aa9",
   "metadata": {},
   "outputs": [],
   "source": [
    "pd.DataFrame(sorted(set(ko_deg[\"DEG\"]))).to_csv(\"/lila/data/deyk/fabiha/20231112_dingyu/data/D18_sample_L_endo_all.txt\", index=False, header=False)"
   ]
  },
  {
   "cell_type": "code",
   "execution_count": 23,
   "id": "666b6fb3-ec60-4e1f-ae7e-c8c8144b7f33",
   "metadata": {},
   "outputs": [
    {
     "data": {
      "text/plain": [
       "(False, False)"
      ]
     },
     "execution_count": 23,
     "metadata": {},
     "output_type": "execute_result"
    }
   ],
   "source": [
    "\"BSN\" in list(ko_deg[\"KO\"].unique()), \"BSN\" in list(ko_deg[\"DEG\"].unique())"
   ]
  },
  {
   "cell_type": "code",
   "execution_count": 24,
   "id": "fe042e2a-d421-4147-8e70-c65757b8973e",
   "metadata": {},
   "outputs": [],
   "source": [
    "ko_deg.to_csv(\"/lila/data/deyk/fabiha/20231112_dingyu/d18_endo_ko_deg_padj05.tsv\", sep=\"\\t\", index=False)"
   ]
  },
  {
   "cell_type": "code",
   "execution_count": 25,
   "id": "6f64eefa-62ee-44ad-87cb-76db0a905b6e",
   "metadata": {},
   "outputs": [],
   "source": [
    "ko_deg[ko_deg[\"DEG\"].isin(top_200[\"ep\"])].to_csv(\"/lila/data/deyk/fabiha/20231112_dingyu/d18_endo_ko_deg_padj05_top.tsv\", sep=\"\\t\", index=False)"
   ]
  },
  {
   "cell_type": "code",
   "execution_count": null,
   "id": "9aaca9a2-516b-4454-8c2a-85cc15fbb7b7",
   "metadata": {},
   "outputs": [],
   "source": []
  },
  {
   "cell_type": "markdown",
   "id": "159805b7-1557-4a59-997c-d4e235dbd183",
   "metadata": {
    "tags": []
   },
   "source": [
    "### ep"
   ]
  },
  {
   "cell_type": "code",
   "execution_count": 8,
   "id": "2e1979d4-3ff2-4484-8ce7-919e8a52f8f1",
   "metadata": {},
   "outputs": [],
   "source": [
    "li = [i for i in os.listdir(\"/lila/data/deyk/fabiha/20231112_dingyu/data/D18_sample_L_ep/\")]"
   ]
  },
  {
   "cell_type": "code",
   "execution_count": 9,
   "id": "08754f22-4275-4639-87b8-e5eb2ad006dc",
   "metadata": {},
   "outputs": [],
   "source": [
    "d = dict()\n",
    "ko_deg = []\n",
    "for i in li:\n",
    "    temp = pd.read_csv(f\"/lila/data/deyk/fabiha/20231112_dingyu/data/D18_sample_L_ep/{i}\", index_col=0)\n",
    "    if len(temp) > 0: d[i.split(\"_\")[-1].split(\".\")[0]] = temp\n",
    "    \n",
    "    temp = temp[temp[\"p_val_adj\"]<0.05]\n",
    "    for deg in list(temp.index):\n",
    "        ko_deg.append([i.split(\"_\")[2], deg])"
   ]
  },
  {
   "cell_type": "code",
   "execution_count": 10,
   "id": "949fceb1-a794-4f2c-9205-46d45e70a8e5",
   "metadata": {},
   "outputs": [],
   "source": [
    "ko_deg = pd.DataFrame(ko_deg)"
   ]
  },
  {
   "cell_type": "code",
   "execution_count": 11,
   "id": "73ecdcac-49fc-4ff2-ab83-3c5c567ee101",
   "metadata": {},
   "outputs": [],
   "source": [
    "ko_deg.columns = [\"KO\", \"DEG\"]"
   ]
  },
  {
   "cell_type": "code",
   "execution_count": 12,
   "id": "dda55f09-24b6-4d18-8d22-1cdbcc11b587",
   "metadata": {},
   "outputs": [
    {
     "data": {
      "text/plain": [
       "{'FOXA1', 'GATA4het', 'MNX1', 'NEUROD1', 'NKX2-2', 'NKX6-1', 'PDX1', 'TLE3'}"
      ]
     },
     "execution_count": 12,
     "metadata": {},
     "output_type": "execute_result"
    }
   ],
   "source": [
    "set(ko_deg[\"KO\"])"
   ]
  },
  {
   "cell_type": "code",
   "execution_count": 13,
   "id": "358ad03e-6b52-4b9e-bbfa-72c7dc47a8b8",
   "metadata": {},
   "outputs": [],
   "source": [
    "pd.DataFrame(sorted(set(ko_deg[\"DEG\"]))).to_csv(\"/lila/data/deyk/fabiha/20231112_dingyu/data/D18_sample_L_ep_all.txt\", index=False, header=False)"
   ]
  },
  {
   "cell_type": "code",
   "execution_count": 14,
   "id": "a23b1ba5-7c96-4d9a-a998-484483146ff8",
   "metadata": {},
   "outputs": [
    {
     "data": {
      "text/plain": [
       "(False, False)"
      ]
     },
     "execution_count": 14,
     "metadata": {},
     "output_type": "execute_result"
    }
   ],
   "source": [
    "\"BSN\" in list(ko_deg[\"KO\"].unique()), \"BSN\" in list(ko_deg[\"DEG\"].unique())"
   ]
  },
  {
   "cell_type": "code",
   "execution_count": 15,
   "id": "338602fb-746b-4b22-b546-2e753cc936df",
   "metadata": {},
   "outputs": [],
   "source": [
    "ko_deg.to_csv(\"/lila/data/deyk/fabiha/20231112_dingyu/d18_ep_ko_deg_padj05.tsv\", sep=\"\\t\", index=False)"
   ]
  },
  {
   "cell_type": "code",
   "execution_count": 18,
   "id": "8a43ae8d-91d3-4493-8f81-4f210b1f744d",
   "metadata": {},
   "outputs": [],
   "source": [
    "ko_deg[ko_deg[\"DEG\"].isin(top_200[\"ep\"])].to_csv(\"/lila/data/deyk/fabiha/20231112_dingyu/d18_ep_ko_deg_padj05_top.tsv\", sep=\"\\t\", index=False)"
   ]
  },
  {
   "cell_type": "code",
   "execution_count": null,
   "id": "1a1e894f-998a-4fb4-925f-a018a09f77dc",
   "metadata": {},
   "outputs": [],
   "source": []
  },
  {
   "cell_type": "markdown",
   "id": "db8eed48-3192-4803-b503-76cc8497f3bf",
   "metadata": {
    "tags": []
   },
   "source": [
    "### none"
   ]
  },
  {
   "cell_type": "code",
   "execution_count": 89,
   "id": "2dba5512-618a-4e3f-a9ec-ca69c4e92c8b",
   "metadata": {},
   "outputs": [],
   "source": [
    "li = [i for i in os.listdir(\"/lila/data/deyk/fabiha/20231112_dingyu/data/D18_sample_L_none/\")]"
   ]
  },
  {
   "cell_type": "code",
   "execution_count": 90,
   "id": "9edf58a0-8915-424e-9543-73b060219769",
   "metadata": {},
   "outputs": [],
   "source": [
    "d = dict()\n",
    "ko_deg = []\n",
    "for i in li:\n",
    "    temp = pd.read_csv(f\"/lila/data/deyk/fabiha/20231112_dingyu/data/D18_sample_L_none/{i}\", index_col=0)\n",
    "    if len(temp) > 0: d[i.split(\"_\")[-1].split(\".\")[0]] = temp\n",
    "    \n",
    "    temp = temp[temp[\"p_val_adj\"]<0.05]\n",
    "    for deg in list(temp.index):\n",
    "        ko_deg.append([i.split(\"_\")[1], deg])"
   ]
  },
  {
   "cell_type": "code",
   "execution_count": 91,
   "id": "36a8bb7d-0b29-4b6a-9a5e-bde159339c77",
   "metadata": {},
   "outputs": [],
   "source": [
    "ko_deg = pd.DataFrame(ko_deg)"
   ]
  },
  {
   "cell_type": "code",
   "execution_count": 92,
   "id": "577f166d-9cbd-4d5f-acec-2bf2c51b8500",
   "metadata": {},
   "outputs": [],
   "source": [
    "ko_deg.columns = [\"KO\", \"DEG\"]"
   ]
  },
  {
   "cell_type": "code",
   "execution_count": 93,
   "id": "18e175e2-6813-4f76-bbf7-fc268a2b3d0e",
   "metadata": {},
   "outputs": [
    {
     "data": {
      "text/plain": [
       "(False, False)"
      ]
     },
     "execution_count": 93,
     "metadata": {},
     "output_type": "execute_result"
    }
   ],
   "source": [
    "\"BSN\" in list(ko_deg[\"KO\"].unique()), \"BSN\" in list(ko_deg[\"DEG\"].unique())"
   ]
  },
  {
   "cell_type": "code",
   "execution_count": 95,
   "id": "a60998bf-1e45-47ea-a7c2-0fd73f41a123",
   "metadata": {},
   "outputs": [],
   "source": [
    "ko_deg.to_csv(\"/lila/data/deyk/fabiha/20231112_dingyu/d18_none_ko_deg_padj05.tsv\", sep=\"\\t\", index=False)"
   ]
  },
  {
   "cell_type": "code",
   "execution_count": null,
   "id": "5feca285-31e6-450f-846d-f38cca939838",
   "metadata": {},
   "outputs": [],
   "source": []
  },
  {
   "cell_type": "markdown",
   "id": "16055ac6-68c5-4b33-a6c1-139b308e2b8d",
   "metadata": {
    "tags": []
   },
   "source": [
    "### scalpha"
   ]
  },
  {
   "cell_type": "code",
   "execution_count": 19,
   "id": "d84244f9-0985-4070-b803-ea8e0a8a25fd",
   "metadata": {},
   "outputs": [],
   "source": [
    "li = [i for i in os.listdir(\"/lila/data/deyk/fabiha/20231112_dingyu/data/D18_sample_L_scalpha/\")]"
   ]
  },
  {
   "cell_type": "code",
   "execution_count": 20,
   "id": "5ee26872-bc1b-4532-bb70-887fe8968f32",
   "metadata": {},
   "outputs": [],
   "source": [
    "d = dict()\n",
    "ko_deg = []\n",
    "for i in li:\n",
    "    temp = pd.read_csv(f\"/lila/data/deyk/fabiha/20231112_dingyu/data/D18_sample_L_scalpha/{i}\", index_col=0)\n",
    "    if len(temp) > 0: d[i.split(\"_\")[-1].split(\".\")[0]] = temp\n",
    "    \n",
    "    temp = temp[temp[\"p_val_adj\"]<0.05]\n",
    "    for deg in list(temp.index):\n",
    "        ko_deg.append([i.split(\"_\")[1], deg])"
   ]
  },
  {
   "cell_type": "code",
   "execution_count": 21,
   "id": "daca1f92-a9d9-4fe0-a829-92b46a8d9677",
   "metadata": {},
   "outputs": [],
   "source": [
    "ko_deg = pd.DataFrame(ko_deg)"
   ]
  },
  {
   "cell_type": "code",
   "execution_count": 22,
   "id": "78ed9fb8-63ac-46c7-b23f-781e7783aa8c",
   "metadata": {},
   "outputs": [],
   "source": [
    "ko_deg.columns = [\"KO\", \"DEG\"]"
   ]
  },
  {
   "cell_type": "code",
   "execution_count": 23,
   "id": "ea4c832d-7691-4964-8199-fbafbb666d13",
   "metadata": {},
   "outputs": [],
   "source": [
    "pd.DataFrame(sorted(set(ko_deg[\"DEG\"]))).to_csv(\"/lila/data/deyk/fabiha/20231112_dingyu/data/D18_sample_L_scalpha_all.txt\", index=False, header=False)"
   ]
  },
  {
   "cell_type": "code",
   "execution_count": 24,
   "id": "507d66a7-a258-4a7e-baf0-85a2da305d1c",
   "metadata": {},
   "outputs": [
    {
     "data": {
      "text/plain": [
       "(False, False)"
      ]
     },
     "execution_count": 24,
     "metadata": {},
     "output_type": "execute_result"
    }
   ],
   "source": [
    "\"BSN\" in list(ko_deg[\"KO\"].unique()), \"BSN\" in list(ko_deg[\"DEG\"].unique())"
   ]
  },
  {
   "cell_type": "code",
   "execution_count": 25,
   "id": "5e33c319-764a-4814-91db-b22569f3efcc",
   "metadata": {},
   "outputs": [],
   "source": [
    "ko_deg.to_csv(\"/lila/data/deyk/fabiha/20231112_dingyu/d18_scalpha_ko_deg_padj05.tsv\", sep=\"\\t\", index=False)"
   ]
  },
  {
   "cell_type": "code",
   "execution_count": 28,
   "id": "46e93c4d-fbac-4407-bd27-48219fac4441",
   "metadata": {},
   "outputs": [],
   "source": [
    "ko_deg[ko_deg[\"DEG\"].isin(top_200[\"scalpha\"])].to_csv(\"/lila/data/deyk/fabiha/20231112_dingyu/d18_scalpha_ko_deg_padj05_top.tsv\", sep=\"\\t\", index=False)"
   ]
  },
  {
   "cell_type": "code",
   "execution_count": null,
   "id": "b5035458-54e6-4ee8-86f3-88e3b1ec9840",
   "metadata": {},
   "outputs": [],
   "source": []
  },
  {
   "cell_type": "markdown",
   "id": "ccfcb1e7-ae6b-416c-98f1-64d9f54135e5",
   "metadata": {
    "tags": []
   },
   "source": [
    "### scbeta"
   ]
  },
  {
   "cell_type": "code",
   "execution_count": 29,
   "id": "30c1d056-df98-4b03-86bf-19c9297074b4",
   "metadata": {},
   "outputs": [],
   "source": [
    "li = [i for i in os.listdir(\"/lila/data/deyk/fabiha/20231112_dingyu/data/D18_sample_L_scbeta/\")]"
   ]
  },
  {
   "cell_type": "code",
   "execution_count": 30,
   "id": "ff40fe9e-5200-4978-a1e4-82f4b62e3ab8",
   "metadata": {},
   "outputs": [],
   "source": [
    "d = dict()\n",
    "ko_deg = []\n",
    "for i in li:\n",
    "    temp = pd.read_csv(f\"/lila/data/deyk/fabiha/20231112_dingyu/data/D18_sample_L_scbeta/{i}\", index_col=0)\n",
    "    if len(temp) > 0: d[i.split(\"_\")[-1].split(\".\")[0]] = temp\n",
    "    \n",
    "    temp = temp[temp[\"p_val_adj\"]<0.05]\n",
    "    for deg in list(temp.index):\n",
    "        ko_deg.append([i.split(\"_\")[1], deg])"
   ]
  },
  {
   "cell_type": "code",
   "execution_count": 31,
   "id": "651671f0-dcc1-4ae8-a798-b6d11e0636c5",
   "metadata": {},
   "outputs": [],
   "source": [
    "ko_deg = pd.DataFrame(ko_deg)"
   ]
  },
  {
   "cell_type": "code",
   "execution_count": 32,
   "id": "a68b5a51-ffae-4073-80f1-936921be78f2",
   "metadata": {},
   "outputs": [],
   "source": [
    "ko_deg.columns = [\"KO\", \"DEG\"]"
   ]
  },
  {
   "cell_type": "code",
   "execution_count": 33,
   "id": "6165aef2-6610-48e3-b2e8-8372fea01f5a",
   "metadata": {},
   "outputs": [],
   "source": [
    "pd.DataFrame(sorted(set(ko_deg[\"DEG\"]))).to_csv(\"/lila/data/deyk/fabiha/20231112_dingyu/data/D18_sample_L_scbeta_all.txt\", index=False, header=False)"
   ]
  },
  {
   "cell_type": "code",
   "execution_count": 34,
   "id": "a8fda4cd-c26a-4e66-ab41-ff7126296651",
   "metadata": {},
   "outputs": [
    {
     "data": {
      "text/plain": [
       "(False, False)"
      ]
     },
     "execution_count": 34,
     "metadata": {},
     "output_type": "execute_result"
    }
   ],
   "source": [
    "\"BSN\" in list(ko_deg[\"KO\"].unique()), \"BSN\" in list(ko_deg[\"DEG\"].unique())"
   ]
  },
  {
   "cell_type": "code",
   "execution_count": 35,
   "id": "71e5395a-8038-4650-85b9-aea393a85e73",
   "metadata": {},
   "outputs": [],
   "source": [
    "ko_deg.to_csv(\"/lila/data/deyk/fabiha/20231112_dingyu/d18_scbeta_ko_deg_padj05.tsv\", sep=\"\\t\", index=False)"
   ]
  },
  {
   "cell_type": "code",
   "execution_count": 37,
   "id": "0ba9c41a-7d74-4e67-9437-982a85713a57",
   "metadata": {},
   "outputs": [],
   "source": [
    "ko_deg[ko_deg[\"DEG\"].isin(top_200[\"scbeta\"])].to_csv(\"/lila/data/deyk/fabiha/20231112_dingyu/d18_scbeta_ko_deg_padj05_top.tsv\", sep=\"\\t\", index=False)"
   ]
  },
  {
   "cell_type": "code",
   "execution_count": null,
   "id": "4ef997a9-7a46-4523-a8fb-51bcdca1dbd8",
   "metadata": {},
   "outputs": [],
   "source": []
  },
  {
   "cell_type": "markdown",
   "id": "7cb1b686-2a0a-4c47-ac86-525d4e3f6a4c",
   "metadata": {
    "tags": []
   },
   "source": [
    "### scdelta"
   ]
  },
  {
   "cell_type": "code",
   "execution_count": 38,
   "id": "2bca145f-2586-480d-bc92-567610f889ef",
   "metadata": {},
   "outputs": [],
   "source": [
    "li = [i for i in os.listdir(\"/lila/data/deyk/fabiha/20231112_dingyu/data/D18_sample_L_scdelta/\")]"
   ]
  },
  {
   "cell_type": "code",
   "execution_count": 39,
   "id": "ee97dfb6-3757-426d-8f4d-bad2e49e1eeb",
   "metadata": {},
   "outputs": [],
   "source": [
    "d = dict()\n",
    "ko_deg = []\n",
    "for i in li:\n",
    "    temp = pd.read_csv(f\"/lila/data/deyk/fabiha/20231112_dingyu/data/D18_sample_L_scdelta/{i}\", index_col=0)\n",
    "    if len(temp) > 0: d[i.split(\"_\")[-1].split(\".\")[0]] = temp\n",
    "    \n",
    "    temp = temp[temp[\"p_val_adj\"]<0.05]\n",
    "    for deg in list(temp.index):\n",
    "        ko_deg.append([i.split(\"_\")[1], deg])"
   ]
  },
  {
   "cell_type": "code",
   "execution_count": 40,
   "id": "12dcedeb-bf3f-451d-bb23-3d943f2b628a",
   "metadata": {},
   "outputs": [],
   "source": [
    "ko_deg = pd.DataFrame(ko_deg)"
   ]
  },
  {
   "cell_type": "code",
   "execution_count": 41,
   "id": "cb158bba-6475-4a62-a387-e8b9b1843d19",
   "metadata": {},
   "outputs": [],
   "source": [
    "ko_deg.columns = [\"KO\", \"DEG\"]"
   ]
  },
  {
   "cell_type": "code",
   "execution_count": 42,
   "id": "841274eb-2241-4c9e-9fd9-bba7315accae",
   "metadata": {},
   "outputs": [],
   "source": [
    "pd.DataFrame(sorted(set(ko_deg[\"DEG\"]))).to_csv(\"/lila/data/deyk/fabiha/20231112_dingyu/data/D18_sample_L_scdelta_all.txt\", index=False, header=False)"
   ]
  },
  {
   "cell_type": "code",
   "execution_count": 43,
   "id": "38c1573b-a77b-499a-8ded-44278a74c1f4",
   "metadata": {},
   "outputs": [
    {
     "data": {
      "text/plain": [
       "(False, False)"
      ]
     },
     "execution_count": 43,
     "metadata": {},
     "output_type": "execute_result"
    }
   ],
   "source": [
    "\"BSN\" in list(ko_deg[\"KO\"].unique()), \"BSN\" in list(ko_deg[\"DEG\"].unique())"
   ]
  },
  {
   "cell_type": "code",
   "execution_count": 44,
   "id": "6d9d38b4-044f-4084-a1fd-71f96753c4ad",
   "metadata": {},
   "outputs": [],
   "source": [
    "ko_deg.to_csv(\"/lila/data/deyk/fabiha/20231112_dingyu/d18_scdelta_ko_deg_padj05.tsv\", sep=\"\\t\", index=False)"
   ]
  },
  {
   "cell_type": "code",
   "execution_count": 46,
   "id": "3208f5cd-ea1f-45e6-8e77-cb18ac8b18dc",
   "metadata": {},
   "outputs": [],
   "source": [
    "ko_deg[ko_deg[\"DEG\"].isin(top_200[\"scdelta\"])].to_csv(\"/lila/data/deyk/fabiha/20231112_dingyu/d18_scdelta_ko_deg_padj05_top.tsv\", sep=\"\\t\", index=False)"
   ]
  },
  {
   "cell_type": "code",
   "execution_count": null,
   "id": "3ec7fd15-c943-4421-85f6-650873ec5abd",
   "metadata": {},
   "outputs": [],
   "source": []
  },
  {
   "cell_type": "markdown",
   "id": "5027d1bb-b669-48d5-96ec-63de327128fb",
   "metadata": {
    "tags": []
   },
   "source": [
    "### scec"
   ]
  },
  {
   "cell_type": "code",
   "execution_count": 47,
   "id": "2957cbb2-604c-45ba-b43a-f994871bb0f6",
   "metadata": {},
   "outputs": [],
   "source": [
    "li = [i for i in os.listdir(\"/lila/data/deyk/fabiha/20231112_dingyu/data/D18_sample_L_scec/\")]"
   ]
  },
  {
   "cell_type": "code",
   "execution_count": 48,
   "id": "1dad6add-a298-4d5a-bc87-c1eb21b5aa23",
   "metadata": {},
   "outputs": [],
   "source": [
    "d = dict()\n",
    "ko_deg = []\n",
    "for i in li:\n",
    "    temp = pd.read_csv(f\"/lila/data/deyk/fabiha/20231112_dingyu/data/D18_sample_L_scec/{i}\", index_col=0)\n",
    "    if len(temp) > 0: d[i.split(\"_\")[-1].split(\".\")[0]] = temp\n",
    "    \n",
    "    temp = temp[temp[\"p_val_adj\"]<0.05]\n",
    "    for deg in list(temp.index):\n",
    "        ko_deg.append([i.split(\"_\")[1], deg])"
   ]
  },
  {
   "cell_type": "code",
   "execution_count": 49,
   "id": "9898426c-1112-48f9-8e98-038a1fd6712b",
   "metadata": {},
   "outputs": [],
   "source": [
    "ko_deg = pd.DataFrame(ko_deg)"
   ]
  },
  {
   "cell_type": "code",
   "execution_count": 50,
   "id": "93c14d82-d544-4329-89d0-d397c5f6650f",
   "metadata": {},
   "outputs": [],
   "source": [
    "ko_deg.columns = [\"KO\", \"DEG\"]"
   ]
  },
  {
   "cell_type": "code",
   "execution_count": 51,
   "id": "ca84a158-98b8-4b94-a408-c71683e81537",
   "metadata": {},
   "outputs": [],
   "source": [
    "pd.DataFrame(sorted(set(ko_deg[\"DEG\"]))).to_csv(\"/lila/data/deyk/fabiha/20231112_dingyu/data/D18_sample_L_scec_all.txt\", index=False, header=False)"
   ]
  },
  {
   "cell_type": "code",
   "execution_count": 52,
   "id": "5ab621e2-e2f7-4002-892e-e6cd1b4e01ec",
   "metadata": {},
   "outputs": [
    {
     "data": {
      "text/plain": [
       "(False, True)"
      ]
     },
     "execution_count": 52,
     "metadata": {},
     "output_type": "execute_result"
    }
   ],
   "source": [
    "\"BSN\" in list(ko_deg[\"KO\"].unique()), \"BSN\" in list(ko_deg[\"DEG\"].unique())"
   ]
  },
  {
   "cell_type": "code",
   "execution_count": 53,
   "id": "32e5c9d0-e00b-4d79-9558-196df90e3775",
   "metadata": {},
   "outputs": [
    {
     "data": {
      "text/html": [
       "<div>\n",
       "<style scoped>\n",
       "    .dataframe tbody tr th:only-of-type {\n",
       "        vertical-align: middle;\n",
       "    }\n",
       "\n",
       "    .dataframe tbody tr th {\n",
       "        vertical-align: top;\n",
       "    }\n",
       "\n",
       "    .dataframe thead th {\n",
       "        text-align: right;\n",
       "    }\n",
       "</style>\n",
       "<table border=\"1\" class=\"dataframe\">\n",
       "  <thead>\n",
       "    <tr style=\"text-align: right;\">\n",
       "      <th></th>\n",
       "      <th>KO</th>\n",
       "      <th>DEG</th>\n",
       "    </tr>\n",
       "  </thead>\n",
       "  <tbody>\n",
       "    <tr>\n",
       "      <th>1785</th>\n",
       "      <td>PDX1</td>\n",
       "      <td>BSN</td>\n",
       "    </tr>\n",
       "    <tr>\n",
       "      <th>7466</th>\n",
       "      <td>TADA2B</td>\n",
       "      <td>BSN</td>\n",
       "    </tr>\n",
       "  </tbody>\n",
       "</table>\n",
       "</div>"
      ],
      "text/plain": [
       "          KO  DEG\n",
       "1785    PDX1  BSN\n",
       "7466  TADA2B  BSN"
      ]
     },
     "execution_count": 53,
     "metadata": {},
     "output_type": "execute_result"
    }
   ],
   "source": [
    "ko_deg[ko_deg[\"DEG\"]==\"BSN\"]"
   ]
  },
  {
   "cell_type": "code",
   "execution_count": 54,
   "id": "25bd918a-976e-49c6-aea5-bb7fa96429c1",
   "metadata": {
    "tags": []
   },
   "outputs": [],
   "source": [
    "ko_deg.to_csv(\"/lila/data/deyk/fabiha/20231112_dingyu/d18_scec_ko_deg_padj05.tsv\", sep=\"\\t\", index=False)"
   ]
  },
  {
   "cell_type": "code",
   "execution_count": 56,
   "id": "ee4cd530-3ff4-47f5-bdf9-79d8ce7f6a1a",
   "metadata": {},
   "outputs": [],
   "source": [
    "ko_deg[ko_deg[\"DEG\"].isin(top_200[\"scec\"])].to_csv(\"/lila/data/deyk/fabiha/20231112_dingyu/d18_scec_ko_deg_padj05_top.tsv\", sep=\"\\t\", index=False)"
   ]
  },
  {
   "cell_type": "code",
   "execution_count": null,
   "id": "3b5d2fac-7ebe-42a7-8eb5-fb2d48a2e220",
   "metadata": {},
   "outputs": [],
   "source": []
  },
  {
   "cell_type": "markdown",
   "id": "223b4af6-17d9-419d-a1d3-c4abe87f470c",
   "metadata": {
    "tags": []
   },
   "source": [
    "### stromal"
   ]
  },
  {
   "cell_type": "code",
   "execution_count": 126,
   "id": "bee9be9f-c25f-4edf-8c2b-0d73f1334aa8",
   "metadata": {},
   "outputs": [],
   "source": [
    "li = [i for i in os.listdir(\"/lila/data/deyk/fabiha/20231112_dingyu/data/D18_sample_L_stromal/\")]"
   ]
  },
  {
   "cell_type": "code",
   "execution_count": 127,
   "id": "131b173f-403b-4214-b504-f2ea16fc19f1",
   "metadata": {},
   "outputs": [],
   "source": [
    "d = dict()\n",
    "ko_deg = []\n",
    "for i in li:\n",
    "    temp = pd.read_csv(f\"/lila/data/deyk/fabiha/20231112_dingyu/data/D18_sample_L_stromal/{i}\", index_col=0)\n",
    "    if len(temp) > 0: d[i.split(\"_\")[-1].split(\".\")[0]] = temp\n",
    "    \n",
    "    temp = temp[temp[\"p_val_adj\"]<0.05]\n",
    "    for deg in list(temp.index):\n",
    "        ko_deg.append([i.split(\"_\")[1], deg])"
   ]
  },
  {
   "cell_type": "code",
   "execution_count": 128,
   "id": "a9462f8b-d1bf-4e98-bc55-12b419eca01a",
   "metadata": {},
   "outputs": [],
   "source": [
    "ko_deg = pd.DataFrame(ko_deg)"
   ]
  },
  {
   "cell_type": "code",
   "execution_count": 129,
   "id": "4cb4d543-0bf3-4aca-b18c-80a456362a9e",
   "metadata": {},
   "outputs": [],
   "source": [
    "ko_deg.columns = [\"KO\", \"DEG\"]"
   ]
  },
  {
   "cell_type": "code",
   "execution_count": 130,
   "id": "cbc77659-eaff-4f00-8aed-facf8f0cf01b",
   "metadata": {},
   "outputs": [
    {
     "data": {
      "text/plain": [
       "(False, False)"
      ]
     },
     "execution_count": 130,
     "metadata": {},
     "output_type": "execute_result"
    }
   ],
   "source": [
    "\"BSN\" in list(ko_deg[\"KO\"].unique()), \"BSN\" in list(ko_deg[\"DEG\"].unique())"
   ]
  },
  {
   "cell_type": "code",
   "execution_count": 132,
   "id": "00910468-b135-44d9-ab30-8f27faec2468",
   "metadata": {},
   "outputs": [],
   "source": [
    "ko_deg.to_csv(\"/lila/data/deyk/fabiha/20231112_dingyu/d18_stromal_ko_deg_padj05.tsv\", sep=\"\\t\", index=False)"
   ]
  },
  {
   "cell_type": "code",
   "execution_count": null,
   "id": "3a5fc145-be43-4ad5-8b58-9b81fe013a59",
   "metadata": {},
   "outputs": [],
   "source": []
  },
  {
   "cell_type": "markdown",
   "id": "976dc654-97fe-45e3-b787-8d39642b8860",
   "metadata": {
    "tags": []
   },
   "source": [
    "### unk"
   ]
  },
  {
   "cell_type": "code",
   "execution_count": 133,
   "id": "82e69fe6-3567-4838-9918-959dff47cd5d",
   "metadata": {},
   "outputs": [],
   "source": [
    "li = [i for i in os.listdir(\"/lila/data/deyk/fabiha/20231112_dingyu/data/D18_sample_L_unk/\")]"
   ]
  },
  {
   "cell_type": "code",
   "execution_count": 134,
   "id": "5306a83f-f2f5-44bf-9ca8-3f5324ebf982",
   "metadata": {},
   "outputs": [],
   "source": [
    "d = dict()\n",
    "ko_deg = []\n",
    "for i in li:\n",
    "    temp = pd.read_csv(f\"/lila/data/deyk/fabiha/20231112_dingyu/data/D18_sample_L_unk/{i}\", index_col=0)\n",
    "    if len(temp) > 0: d[i.split(\"_\")[-1].split(\".\")[0]] = temp\n",
    "    \n",
    "    temp = temp[temp[\"p_val_adj\"]<0.05]\n",
    "    for deg in list(temp.index):\n",
    "        ko_deg.append([i.split(\"_\")[1], deg])"
   ]
  },
  {
   "cell_type": "code",
   "execution_count": 135,
   "id": "9d6d992e-d0e9-461b-b5e7-baa7de2d4b6a",
   "metadata": {},
   "outputs": [],
   "source": [
    "ko_deg = pd.DataFrame(ko_deg)"
   ]
  },
  {
   "cell_type": "code",
   "execution_count": 136,
   "id": "70cf1e0c-b267-4550-b8d5-678adb90c7d2",
   "metadata": {},
   "outputs": [],
   "source": [
    "ko_deg.columns = [\"KO\", \"DEG\"]"
   ]
  },
  {
   "cell_type": "code",
   "execution_count": 137,
   "id": "9d9e7be6-2630-42ca-ac8b-87a43d4ade56",
   "metadata": {},
   "outputs": [
    {
     "data": {
      "text/plain": [
       "(False, False)"
      ]
     },
     "execution_count": 137,
     "metadata": {},
     "output_type": "execute_result"
    }
   ],
   "source": [
    "\"BSN\" in list(ko_deg[\"KO\"].unique()), \"BSN\" in list(ko_deg[\"DEG\"].unique())"
   ]
  },
  {
   "cell_type": "code",
   "execution_count": 139,
   "id": "03b83b48-742b-4bda-86ca-0f6142ec21d6",
   "metadata": {},
   "outputs": [],
   "source": [
    "ko_deg.to_csv(\"/lila/data/deyk/fabiha/20231112_dingyu/d18_unk_ko_deg_padj05.tsv\", sep=\"\\t\", index=False)"
   ]
  },
  {
   "cell_type": "code",
   "execution_count": null,
   "id": "f04ab8f2-8733-457e-a3b8-50ba9ae83ad8",
   "metadata": {},
   "outputs": [],
   "source": []
  },
  {
   "cell_type": "markdown",
   "id": "9918fd92-410f-4f99-8584-fa9dd7c0f051",
   "metadata": {},
   "source": [
    "# graph creation"
   ]
  },
  {
   "cell_type": "markdown",
   "id": "d9a2cb59-152c-41a4-9a3e-437c754240af",
   "metadata": {
    "tags": []
   },
   "source": [
    "## hetero graph no weights"
   ]
  },
  {
   "cell_type": "code",
   "execution_count": 37,
   "id": "d9eafaac-76d1-452c-87b6-905f9617fdbc",
   "metadata": {
    "id": "1f5d7484-e5fb-43a2-81b3-44027e69df1a",
    "tags": []
   },
   "outputs": [
    {
     "name": "stdout",
     "output_type": "stream",
     "text": [
      "HeteroData(\n",
      "  ko={ num_nodes=37 },\n",
      "  deg={ num_nodes=8147 },\n",
      "  (ko, rev.ko, deg)={ edge_index=[2, 29018] },\n",
      "  (deg, ko, ko)={ edge_index=[2, 29018] }\n",
      ")\n"
     ]
    }
   ],
   "source": [
    "import pandas as pd\n",
    "import torch\n",
    "from torch_geometric.data import HeteroData\n",
    "\n",
    "# Load the data\n",
    "\n",
    "#name = 'd3_ko_deg_padj05'\n",
    "#name = 'd3_de1_ko_deg_padj05'\n",
    "#name = 'd3_de2_ko_deg_padj05'\n",
    "\n",
    "#name = 'd7_ko_deg_padj05'\n",
    "#name = 'd7_liver_ko_deg_padj05'\n",
    "#name = 'd7_pfg1_ko_deg_padj05'\n",
    "#name = 'd7_pfg2_ko_deg_padj05'\n",
    "\n",
    "#name = 'd11_ko_deg_padj05'\n",
    "#name = 'd11_ep_ko_deg_padj05'\n",
    "#name = 'd11_pp1_ko_deg_padj05'\n",
    "#name = 'd11_pp2_ko_deg_padj05'\n",
    "\n",
    "name = 'd18_ko_deg_padj05'\n",
    "#name = 'd18_endo_ko_deg_padj05'\n",
    "#name = 'd18_ep_ko_deg_padj05'\n",
    "#name = 'd18_none_ko_deg_padj05'\n",
    "#name = 'd18_scalpha_ko_deg_padj05'\n",
    "#name = 'd18_scbeta_ko_deg_padj05'\n",
    "#name = 'd18_scdelta_ko_deg_padj05'\n",
    "#name = 'd18_scec_ko_deg_padj05'\n",
    "#name = 'd18_stromal_ko_deg_padj05'\n",
    "#name = 'd18_unk_ko_deg_padj05'\n",
    "\n",
    "filename = f\"/lila/data/deyk/fabiha/20231112_dingyu/{name}.tsv\"\n",
    "data = pd.read_csv(filename, sep='\\t')\n",
    "\n",
    "# Create unique indices for genes and peaks\n",
    "ko_to_index = {ko: i for i, ko in enumerate(data[\"KO\"].unique())}\n",
    "deg_to_index = {ko: i for i, ko in enumerate(data[\"DEG\"].unique())}\n",
    "\n",
    "# Initialize the HeteroData object\n",
    "graph = HeteroData()\n",
    "\n",
    "# Define the number of nodes for each type\n",
    "graph['ko'].num_nodes = len(ko_to_index)\n",
    "graph['deg'].num_nodes = len(deg_to_index)\n",
    "\n",
    "relation = \"ko\"\n",
    "# Prepare edge indices for the current relation\n",
    "edge_indices = torch.zeros((2, len(data)), dtype=torch.long)\n",
    "for i, (_, row) in enumerate(data.iterrows()):\n",
    "    ko_idx = ko_to_index[row['KO']]\n",
    "    deg_idx = deg_to_index[row['DEG']]\n",
    "    edge_indices[0, i] = ko_idx\n",
    "    edge_indices[1, i] = deg_idx\n",
    "# Add edges for the current relation to the graph\n",
    "graph['ko', \"rev.\"+relation, 'deg'].edge_index = edge_indices\n",
    "graph['deg', relation, 'ko'].edge_index = torch.flip(edge_indices, [1,0])\n",
    "\n",
    "# Print the graph to verify\n",
    "print(graph)\n"
   ]
  },
  {
   "cell_type": "code",
   "execution_count": 38,
   "id": "4c68a886-0d6d-44c4-bba9-b0147ff0129d",
   "metadata": {},
   "outputs": [],
   "source": [
    "d = dict()\n",
    "d[\"ko_to_index\"] = ko_to_index\n",
    "d[\"deg_to_index\"] = deg_to_index\n",
    "\n",
    "np.save(f'/lila/data/deyk/fabiha/20231112_dingyu/{name}_toidx.npy', d, allow_pickle=True)"
   ]
  },
  {
   "cell_type": "code",
   "execution_count": null,
   "id": "cad16294-e47d-4fa2-86e6-0d8913f6a0b8",
   "metadata": {},
   "outputs": [],
   "source": []
  },
  {
   "cell_type": "markdown",
   "id": "92a3b969-b6ad-41f4-b674-d6f67dccd953",
   "metadata": {
    "tags": []
   },
   "source": [
    "## hetero graph combine celltypes same KO"
   ]
  },
  {
   "cell_type": "code",
   "execution_count": 23,
   "id": "a322d291-821c-4a7a-bc5a-5ca3884662ba",
   "metadata": {
    "id": "1f5d7484-e5fb-43a2-81b3-44027e69df1a",
    "tags": []
   },
   "outputs": [
    {
     "name": "stdout",
     "output_type": "stream",
     "text": [
      "HeteroData(\n",
      "  ko={ num_nodes=21 },\n",
      "  deg={ num_nodes=1082 },\n",
      "  (ko, rev.ko, deg)={ edge_index=[2, 2180] },\n",
      "  (deg, ko, ko)={ edge_index=[2, 2180] }\n",
      ")\n"
     ]
    }
   ],
   "source": [
    "import pandas as pd\n",
    "import torch\n",
    "from torch_geometric.data import HeteroData\n",
    "\n",
    "# Load the data\n",
    "\n",
    "celltype_names = dict()\n",
    "celltype_names[\"d3\"] = ['d3_de1_ko_deg_padj05', 'd3_de2_ko_deg_padj05']\n",
    "celltype_names[\"d7\"] = ['d7_liver_ko_deg_padj05', 'd7_pfg1_ko_deg_padj05', 'd7_pfg2_ko_deg_padj05']\n",
    "celltype_names[\"d11\"] = ['d11_ep_ko_deg_padj05', 'd11_pp1_ko_deg_padj05', 'd11_pp2_ko_deg_padj05']\n",
    "celltype_names[\"d18\"] = ['d18_ep_ko_deg_padj05', 'd18_none_ko_deg_padj05', 'd18_scalpha_ko_deg_padj05', 'd18_scbeta_ko_deg_padj05', 'd18_scdelta_ko_deg_padj05', 'd18_scec_ko_deg_padj05', 'd18_stromal_ko_deg_padj05', 'd18_unk_ko_deg_padj05']\n",
    "celltype_names[\"d18_priority\"] = ['d18_ep_ko_deg_padj05', 'd18_scalpha_ko_deg_padj05', 'd18_scbeta_ko_deg_padj05', 'd18_scdelta_ko_deg_padj05', 'd18_scec_ko_deg_padj05']\n",
    "\n",
    "#name = 'd3_ko_deg_padj05'\n",
    "#name = 'd3_de1_ko_deg_padj05'\n",
    "#name = 'd3_de2_ko_deg_padj05'\n",
    "\n",
    "#day = \"d3\"\n",
    "#day = \"d7\"\n",
    "day = \"d11\"\n",
    "#day = \"d18\"\n",
    "#day = \"d18_priority\"\n",
    "\n",
    "data = []\n",
    "for name in celltype_names[day]:\n",
    "    filename = f\"/lila/data/deyk/fabiha/20231112_dingyu/{name}.tsv\"\n",
    "    temp = pd.read_csv(filename, sep='\\t')\n",
    "    data.append(temp)\n",
    "data = pd.concat(data)\n",
    "\n",
    "# Create unique indices for genes and peaks\n",
    "ko_to_index = {ko: i for i, ko in enumerate(data[\"KO\"].unique())}\n",
    "deg_to_index = {ko: i for i, ko in enumerate(data[\"DEG\"].unique())}\n",
    "\n",
    "# Initialize the HeteroData object\n",
    "graph = HeteroData()\n",
    "\n",
    "# Define the number of nodes for each type\n",
    "graph['ko'].num_nodes = len(ko_to_index)\n",
    "graph['deg'].num_nodes = len(deg_to_index)\n",
    "\n",
    "relation = \"ko\"\n",
    "# Prepare edge indices for the current relation\n",
    "edge_indices = torch.zeros((2, len(data)), dtype=torch.long)\n",
    "for i, (_, row) in enumerate(data.iterrows()):\n",
    "    ko_idx = ko_to_index[row['KO']]\n",
    "    deg_idx = deg_to_index[row['DEG']]\n",
    "    edge_indices[0, i] = ko_idx\n",
    "    edge_indices[1, i] = deg_idx\n",
    "# Add edges for the current relation to the graph\n",
    "graph['ko', \"rev.\"+relation, 'deg'].edge_index = edge_indices\n",
    "graph['deg', relation, 'ko'].edge_index = torch.flip(edge_indices, [1,0])\n",
    "\n",
    "# Print the graph to verify\n",
    "print(graph)\n",
    "name = f\"{day}_combined_celltypes_sameKO\"\n",
    "data.to_csv(f\"/lila/data/deyk/fabiha/20231112_dingyu/{name}.tsv\", sep=\"\\t\", index=False)"
   ]
  },
  {
   "cell_type": "code",
   "execution_count": 24,
   "id": "78f44bd3-fcd4-42ac-a7e5-beb74fdcbeac",
   "metadata": {},
   "outputs": [],
   "source": [
    "d = dict()\n",
    "d[\"ko_to_index\"] = ko_to_index\n",
    "d[\"deg_to_index\"] = deg_to_index\n",
    "\n",
    "np.save(f'/lila/data/deyk/fabiha/20231112_dingyu/{name}_toidx.npy', d, allow_pickle=True)"
   ]
  },
  {
   "cell_type": "code",
   "execution_count": null,
   "id": "f8e261a9-4c6f-4a3d-9817-17311e244b4c",
   "metadata": {},
   "outputs": [],
   "source": []
  },
  {
   "cell_type": "markdown",
   "id": "0ae59f7e-b941-4686-a9ee-553c0bf97bbc",
   "metadata": {
    "tags": []
   },
   "source": [
    "## hetero graph combine celltypes same KO with weights"
   ]
  },
  {
   "cell_type": "code",
   "execution_count": 23,
   "id": "b8fe2c95-5af6-421a-8ba3-bf4ec45e0d28",
   "metadata": {
    "id": "1f5d7484-e5fb-43a2-81b3-44027e69df1a",
    "tags": []
   },
   "outputs": [
    {
     "name": "stdout",
     "output_type": "stream",
     "text": [
      "HeteroData(\n",
      "  ko={ num_nodes=21 },\n",
      "  deg={ num_nodes=1082 },\n",
      "  (ko, rev.ko, deg)={ edge_index=[2, 2180] },\n",
      "  (deg, ko, ko)={ edge_index=[2, 2180] }\n",
      ")\n"
     ]
    }
   ],
   "source": [
    "import pandas as pd\n",
    "import torch\n",
    "from torch_geometric.data import HeteroData\n",
    "\n",
    "# Load the data\n",
    "\n",
    "celltype_names = dict()\n",
    "celltype_names[\"d3\"] = ['d3_de1_ko_deg_padj05', 'd3_de2_ko_deg_padj05']\n",
    "celltype_names[\"d7\"] = ['d7_liver_ko_deg_padj05', 'd7_pfg1_ko_deg_padj05', 'd7_pfg2_ko_deg_padj05']\n",
    "celltype_names[\"d11\"] = ['d11_ep_ko_deg_padj05', 'd11_pp1_ko_deg_padj05', 'd11_pp2_ko_deg_padj05']\n",
    "celltype_names[\"d18\"] = ['d18_ep_ko_deg_padj05', 'd18_none_ko_deg_padj05', 'd18_scalpha_ko_deg_padj05', 'd18_scbeta_ko_deg_padj05', 'd18_scdelta_ko_deg_padj05', 'd18_scec_ko_deg_padj05', 'd18_stromal_ko_deg_padj05', 'd18_unk_ko_deg_padj05']\n",
    "celltype_names[\"d18_priority\"] = ['d18_ep_ko_deg_padj05', 'd18_scalpha_ko_deg_padj05', 'd18_scbeta_ko_deg_padj05', 'd18_scdelta_ko_deg_padj05', 'd18_scec_ko_deg_padj05']\n",
    "\n",
    "#name = 'd3_ko_deg_padj05'\n",
    "#name = 'd3_de1_ko_deg_padj05'\n",
    "#name = 'd3_de2_ko_deg_padj05'\n",
    "\n",
    "#day = \"d3\"\n",
    "#day = \"d7\"\n",
    "day = \"d11\"\n",
    "#day = \"d18\"\n",
    "#day = \"d18_priority\"\n",
    "\n",
    "data = []\n",
    "for name in celltype_names[day]:\n",
    "    filename = f\"/lila/data/deyk/fabiha/20231112_dingyu/{name}.tsv\"\n",
    "    temp = pd.read_csv(filename, sep='\\t')\n",
    "    data.append(temp)\n",
    "data = pd.concat(data)\n",
    "\n",
    "# Create unique indices for genes and peaks\n",
    "ko_to_index = {ko: i for i, ko in enumerate(data[\"KO\"].unique())}\n",
    "deg_to_index = {ko: i for i, ko in enumerate(data[\"DEG\"].unique())}\n",
    "\n",
    "# Initialize the HeteroData object\n",
    "graph = HeteroData()\n",
    "\n",
    "# Define the number of nodes for each type\n",
    "graph['ko'].num_nodes = len(ko_to_index)\n",
    "graph['deg'].num_nodes = len(deg_to_index)\n",
    "\n",
    "relation = \"ko\"\n",
    "# Prepare edge indices for the current relation\n",
    "edge_indices = torch.zeros((2, len(data)), dtype=torch.long)\n",
    "for i, (_, row) in enumerate(data.iterrows()):\n",
    "    ko_idx = ko_to_index[row['KO']]\n",
    "    deg_idx = deg_to_index[row['DEG']]\n",
    "    edge_indices[0, i] = ko_idx\n",
    "    edge_indices[1, i] = deg_idx\n",
    "# Add edges for the current relation to the graph\n",
    "graph['ko', \"rev.\"+relation, 'deg'].edge_index = edge_indices\n",
    "graph['deg', relation, 'ko'].edge_index = torch.flip(edge_indices, [1,0])\n",
    "\n",
    "# Print the graph to verify\n",
    "print(graph)\n",
    "name = f\"{day}_combined_celltypes_sameKO\"\n",
    "data.to_csv(f\"/lila/data/deyk/fabiha/20231112_dingyu/{name}.tsv\", sep=\"\\t\", index=False)"
   ]
  },
  {
   "cell_type": "code",
   "execution_count": 24,
   "id": "d3f6dff0-1146-45aa-ac93-25388358dc9b",
   "metadata": {},
   "outputs": [],
   "source": [
    "d = dict()\n",
    "d[\"ko_to_index\"] = ko_to_index\n",
    "d[\"deg_to_index\"] = deg_to_index\n",
    "\n",
    "np.save(f'/lila/data/deyk/fabiha/20231112_dingyu/{name}_toidx.npy', d, allow_pickle=True)"
   ]
  },
  {
   "cell_type": "code",
   "execution_count": null,
   "id": "ae55939c-b363-4a19-b813-b2d156d8973f",
   "metadata": {},
   "outputs": [],
   "source": []
  },
  {
   "cell_type": "markdown",
   "id": "9045411d-451d-467a-a276-bbb1b417cdab",
   "metadata": {
    "tags": []
   },
   "source": [
    "## hetero graph combine celltypes different KO"
   ]
  },
  {
   "cell_type": "code",
   "execution_count": 41,
   "id": "a5c195d5-d5ec-4c9f-8fec-b80477a52720",
   "metadata": {
    "id": "1f5d7484-e5fb-43a2-81b3-44027e69df1a",
    "tags": []
   },
   "outputs": [
    {
     "name": "stdout",
     "output_type": "stream",
     "text": [
      "HeteroData(\n",
      "  ko={ num_nodes=46 },\n",
      "  deg={ num_nodes=1082 },\n",
      "  (ko, rev.ko, deg)={ edge_index=[2, 2180] },\n",
      "  (deg, ko, ko)={ edge_index=[2, 2180] }\n",
      ")\n"
     ]
    }
   ],
   "source": [
    "import pandas as pd\n",
    "import torch\n",
    "from torch_geometric.data import HeteroData\n",
    "\n",
    "# Load the data\n",
    "\n",
    "celltype_names = dict()\n",
    "celltype_names[\"d3\"] = ['d3_de1_ko_deg_padj05', 'd3_de2_ko_deg_padj05']\n",
    "celltype_names[\"d7\"] = ['d7_liver_ko_deg_padj05', 'd7_pfg1_ko_deg_padj05', 'd7_pfg2_ko_deg_padj05']\n",
    "celltype_names[\"d11\"] = ['d11_ep_ko_deg_padj05', 'd11_pp1_ko_deg_padj05', 'd11_pp2_ko_deg_padj05']\n",
    "celltype_names[\"d18\"] = ['d18_ep_ko_deg_padj05', 'd18_none_ko_deg_padj05', 'd18_scalpha_ko_deg_padj05', 'd18_scbeta_ko_deg_padj05', 'd18_scdelta_ko_deg_padj05', 'd18_scec_ko_deg_padj05', 'd18_stromal_ko_deg_padj05', 'd18_unk_ko_deg_padj05']\n",
    "celltype_names[\"d18_priority\"] = ['d18_ep_ko_deg_padj05', 'd18_scalpha_ko_deg_padj05', 'd18_scbeta_ko_deg_padj05', 'd18_scdelta_ko_deg_padj05', 'd18_scec_ko_deg_padj05']\n",
    "\n",
    "#name = 'd3_ko_deg_padj05'\n",
    "#name = 'd3_de1_ko_deg_padj05'\n",
    "#name = 'd3_de2_ko_deg_padj05'\n",
    "\n",
    "#day = \"d3\"\n",
    "#day = \"d7\"\n",
    "day = \"d11\"\n",
    "#day = \"d18\"\n",
    "\n",
    "data = []\n",
    "for name in celltype_names[day]:\n",
    "    filename = f\"/lila/data/deyk/fabiha/20231112_dingyu/{name}.tsv\"\n",
    "    temp = pd.read_csv(filename, sep='\\t')\n",
    "    temp[\"KO\"] = temp[\"KO\"] + name.split(day)[1].split(\"_ko_deg_padj05\")[0]\n",
    "    data.append(temp)\n",
    "data = pd.concat(data)\n",
    "\n",
    "# Create unique indices for genes and peaks\n",
    "ko_to_index = {ko: i for i, ko in enumerate(data[\"KO\"].unique())}\n",
    "deg_to_index = {ko: i for i, ko in enumerate(data[\"DEG\"].unique())}\n",
    "\n",
    "# Initialize the HeteroData object\n",
    "graph = HeteroData()\n",
    "\n",
    "# Define the number of nodes for each type\n",
    "graph['ko'].num_nodes = len(ko_to_index)\n",
    "graph['deg'].num_nodes = len(deg_to_index)\n",
    "\n",
    "relation = \"ko\"\n",
    "# Prepare edge indices for the current relation\n",
    "edge_indices = torch.zeros((2, len(data)), dtype=torch.long)\n",
    "for i, (_, row) in enumerate(data.iterrows()):\n",
    "    ko_idx = ko_to_index[row['KO']]\n",
    "    deg_idx = deg_to_index[row['DEG']]\n",
    "    edge_indices[0, i] = ko_idx\n",
    "    edge_indices[1, i] = deg_idx\n",
    "# Add edges for the current relation to the graph\n",
    "graph['ko', \"rev.\"+relation, 'deg'].edge_index = edge_indices\n",
    "graph['deg', relation, 'ko'].edge_index = torch.flip(edge_indices, [1,0])\n",
    "\n",
    "# Print the graph to verify\n",
    "print(graph)\n",
    "name = f\"{day}_combined_celltypes_diffKO\"\n",
    "data.to_csv(f\"/lila/data/deyk/fabiha/20231112_dingyu/{name}.tsv\", sep=\"\\t\", index=False)"
   ]
  },
  {
   "cell_type": "code",
   "execution_count": 42,
   "id": "be4738d2-6151-4a8b-a63d-ed25bcb46fb2",
   "metadata": {},
   "outputs": [],
   "source": [
    "d = dict()\n",
    "d[\"ko_to_index\"] = ko_to_index\n",
    "d[\"deg_to_index\"] = deg_to_index\n",
    "\n",
    "np.save(f'/lila/data/deyk/fabiha/20231112_dingyu/{name}_toidx.npy', d, allow_pickle=True)"
   ]
  },
  {
   "cell_type": "code",
   "execution_count": null,
   "id": "76c3a7c7-1991-4050-954b-689d1a6efe65",
   "metadata": {},
   "outputs": [],
   "source": []
  },
  {
   "cell_type": "markdown",
   "id": "1e6a4729-c2d7-47de-9bc9-f7463b0221ba",
   "metadata": {
    "tags": []
   },
   "source": [
    "## hetero graph with programs celltype weights"
   ]
  },
  {
   "cell_type": "code",
   "execution_count": 57,
   "id": "99db4ee7-c823-40af-b6dc-b57ba3735064",
   "metadata": {},
   "outputs": [
    {
     "name": "stdout",
     "output_type": "stream",
     "text": [
      "HeteroData(\n",
      "  ko={ num_nodes=24 },\n",
      "  deg={ num_nodes=538 },\n",
      "  (ko, ep, deg)={ edge_index=[2, 74] },\n",
      "  (deg, ep, ko)={ edge_index=[2, 74] },\n",
      "  (ko, scalpha, deg)={ edge_index=[2, 532] },\n",
      "  (deg, scalpha, ko)={ edge_index=[2, 532] },\n",
      "  (ko, scbeta, deg)={ edge_index=[2, 297] },\n",
      "  (deg, scbeta, ko)={ edge_index=[2, 297] },\n",
      "  (ko, scdelta, deg)={ edge_index=[2, 23] },\n",
      "  (deg, scdelta, ko)={ edge_index=[2, 23] },\n",
      "  (ko, scec, deg)={ edge_index=[2, 827] },\n",
      "  (deg, scec, ko)={ edge_index=[2, 827] }\n",
      ")\n"
     ]
    }
   ],
   "source": [
    "import pandas as pd\n",
    "import torch\n",
    "from torch_geometric.data import HeteroData\n",
    "\n",
    "# Load the data\n",
    "\n",
    "celltype_names = dict()\n",
    "celltype_names[\"d18_priority\"] = ['d18_ep_ko_deg_padj05', 'd18_scalpha_ko_deg_padj05', 'd18_scbeta_ko_deg_padj05', 'd18_scdelta_ko_deg_padj05', 'd18_scec_ko_deg_padj05']\n",
    "celltype_names[\"d18_priority_top\"] = ['d18_ep_ko_deg_padj05_top', 'd18_scalpha_ko_deg_padj05_top', 'd18_scbeta_ko_deg_padj05_top', 'd18_scdelta_ko_deg_padj05_top', 'd18_scec_ko_deg_padj05_top']\n",
    "\n",
    "#day = \"d18_priority\"\n",
    "day = \"d18_priority_top\"\n",
    "\n",
    "data = []\n",
    "for name in celltype_names[day]:\n",
    "    filename = f\"/lila/data/deyk/fabiha/20231112_dingyu/{name}.tsv\"\n",
    "    temp = pd.read_csv(filename, sep='\\t')\n",
    "    temp[\"celltype\"] = name.split(\"_\")[1]\n",
    "    data.append(temp)\n",
    "data = pd.concat(data)\n",
    "\n",
    "name = day\n",
    "\n",
    "# Create unique indices for genes and peaks\n",
    "ko_to_index = {ko: i for i, ko in enumerate(data[\"KO\"].unique())}\n",
    "deg_to_index = {ko: i for i, ko in enumerate(data[\"DEG\"].unique())}\n",
    "\n",
    "# Initialize the HeteroData object\n",
    "graph = HeteroData()\n",
    "\n",
    "# Define the number of nodes for each type\n",
    "graph['ko'].num_nodes = len(ko_to_index)\n",
    "graph['deg'].num_nodes = len(deg_to_index)\n",
    "\n",
    "group_data = data.groupby(\"celltype\")\n",
    "for ct, group in group_data:\n",
    "    relation = ct\n",
    "    # Prepare edge indices for the current relation\n",
    "    edge_indices = torch.zeros((2, len(group)), dtype=torch.long)\n",
    "    for i, (_, row) in enumerate(group.iterrows()):\n",
    "        ko_idx = ko_to_index[row['KO']]\n",
    "        deg_idx = deg_to_index[row['DEG']]\n",
    "        edge_indices[0, i] = ko_idx\n",
    "        edge_indices[1, i] = deg_idx\n",
    "    # Add edges for the current relation to the graph\n",
    "    #graph['ko', \"rev.\"+relation, 'deg'].edge_index = edge_indices\n",
    "    graph['ko', relation, 'deg'].edge_index = edge_indices\n",
    "    graph['deg', relation, 'ko'].edge_index = torch.flip(edge_indices, [1,0])\n",
    "    \n",
    "# Print the graph to verify\n",
    "print(graph)\n",
    "name = f\"{day}_combined_celltypes_weights\"\n",
    "data.to_csv(f\"/lila/data/deyk/fabiha/20231112_dingyu/{name}.tsv\", sep=\"\\t\", index=False)"
   ]
  },
  {
   "cell_type": "code",
   "execution_count": 58,
   "id": "b80de26d-9a30-4819-9e38-ab65970ebdff",
   "metadata": {},
   "outputs": [],
   "source": [
    "d = dict()\n",
    "d[\"ko_to_index\"] = ko_to_index\n",
    "d[\"deg_to_index\"] = deg_to_index\n",
    "\n",
    "np.save(f'/lila/data/deyk/fabiha/20231112_dingyu/{name}_toidx.npy', d, allow_pickle=True)"
   ]
  },
  {
   "cell_type": "code",
   "execution_count": null,
   "id": "88681163-b16e-4910-aedf-55bc0c97472c",
   "metadata": {},
   "outputs": [],
   "source": []
  },
  {
   "cell_type": "markdown",
   "id": "f690eb81-b48b-46d4-b79a-9d7d684e8d8a",
   "metadata": {},
   "source": [
    "## create graph"
   ]
  },
  {
   "cell_type": "markdown",
   "id": "6fcf9442-01dc-47d4-b047-9a7863ca7ea1",
   "metadata": {},
   "source": [
    "### non-weighted"
   ]
  },
  {
   "cell_type": "code",
   "execution_count": 39,
   "id": "89b38a0b-bda9-4cbc-8681-05184aec465b",
   "metadata": {
    "id": "89b38a0b-bda9-4cbc-8681-05184aec465b",
    "tags": []
   },
   "outputs": [
    {
     "name": "stdout",
     "output_type": "stream",
     "text": [
      "('ko', 'rev.ko', 'deg')\n",
      "ko rev.ko deg\n",
      "('deg', 'ko', 'ko')\n",
      "deg ko ko\n"
     ]
    }
   ],
   "source": [
    "import networkx as nx\n",
    "\n",
    "# Initialize a new undirected graph\n",
    "G = nx.Graph()\n",
    "\n",
    "# Add nodes for each node type with a unique identifier\n",
    "for node_type in graph.node_types:\n",
    "    # Add nodes to the graph, ensuring unique identifiers\n",
    "    nodes = [(f\"{node_type}_{i}\", {\"type\": node_type}) for i in range(graph[node_type].num_nodes)]\n",
    "    G.add_nodes_from(nodes)\n",
    "\n",
    "# Add edges for each edge type\n",
    "for edge_type in graph.edge_types:\n",
    "    print(edge_type)\n",
    "    # Retrieve edge index tensor for the current edge type\n",
    "    src_type, ct, dst_type = edge_type\n",
    "    print(src_type, ct, dst_type)\n",
    "    edge_index = graph[edge_type].edge_index.numpy()\n",
    "    #edge_weight = graph[edge_type].edge_weight.numpy()\n",
    "    # Add edges to the graph, using the unique identifiers\n",
    "    edges = [(f\"{src_type}_{src}\", f\"{dst_type}_{dst}\") for en, (src, dst) in enumerate(edge_index.T)]\n",
    "    #edges = [(f\"{src_type}_{src}\", f\"{dst_type}_{dst}\", ct) for en, (src, dst) in enumerate(edge_index.T)]\n",
    "    G.add_edges_from(edges)\n",
    "    #G.add_weighted_edges_from(edges, weight=\"celltype\")"
   ]
  },
  {
   "cell_type": "markdown",
   "id": "dee17662-ea76-4bb2-8c3a-c66fed553a49",
   "metadata": {
    "tags": []
   },
   "source": [
    "### weighted"
   ]
  },
  {
   "cell_type": "code",
   "execution_count": 59,
   "id": "8479a728-14f4-423b-8578-fc6711dbfb70",
   "metadata": {
    "id": "89b38a0b-bda9-4cbc-8681-05184aec465b",
    "tags": []
   },
   "outputs": [
    {
     "name": "stdout",
     "output_type": "stream",
     "text": [
      "('ko', 'ep', 'deg')\n",
      "ko ep deg\n",
      "('deg', 'ep', 'ko')\n",
      "deg ep ko\n",
      "('ko', 'scalpha', 'deg')\n",
      "ko scalpha deg\n",
      "('deg', 'scalpha', 'ko')\n",
      "deg scalpha ko\n",
      "('ko', 'scbeta', 'deg')\n",
      "ko scbeta deg\n",
      "('deg', 'scbeta', 'ko')\n",
      "deg scbeta ko\n",
      "('ko', 'scdelta', 'deg')\n",
      "ko scdelta deg\n",
      "('deg', 'scdelta', 'ko')\n",
      "deg scdelta ko\n",
      "('ko', 'scec', 'deg')\n",
      "ko scec deg\n",
      "('deg', 'scec', 'ko')\n",
      "deg scec ko\n"
     ]
    }
   ],
   "source": [
    "import networkx as nx\n",
    "\n",
    "# Initialize a new undirected graph\n",
    "G = nx.Graph()\n",
    "\n",
    "# Add nodes for each node type with a unique identifier\n",
    "for node_type in graph.node_types:\n",
    "    # Add nodes to the graph, ensuring unique identifiers\n",
    "    nodes = [(f\"{node_type}_{i}\", {\"type\": node_type}) for i in range(graph[node_type].num_nodes)]\n",
    "    G.add_nodes_from(nodes)\n",
    "\n",
    "# Add edges for each edge type\n",
    "for edge_type in graph.edge_types:\n",
    "    print(edge_type)\n",
    "    # Retrieve edge index tensor for the current edge type\n",
    "    src_type, ct, dst_type = edge_type\n",
    "    print(src_type, ct, dst_type)\n",
    "    edge_index = graph[edge_type].edge_index.numpy()\n",
    "    #edge_weight = graph[edge_type].edge_weight.numpy()\n",
    "    # Add edges to the graph, using the unique identifiers\n",
    "    #edges = [(f\"{src_type}_{src}\", f\"{dst_type}_{dst}\") for en, (src, dst) in enumerate(edge_index.T)]\n",
    "    edges = [(f\"{src_type}_{src}\", f\"{dst_type}_{dst}\", ct) for en, (src, dst) in enumerate(edge_index.T)]\n",
    "    #G.add_edges_from(edges)\n",
    "    G.add_weighted_edges_from(edges, weight=\"celltype\")"
   ]
  },
  {
   "cell_type": "markdown",
   "id": "8b43ae37-ef63-4532-aa50-35fe50354d3d",
   "metadata": {},
   "source": [
    "### write graph"
   ]
  },
  {
   "cell_type": "code",
   "execution_count": 40,
   "id": "b1c0edc2-1ec9-4f6b-919c-a05d7ca0e7ec",
   "metadata": {},
   "outputs": [
    {
     "data": {
      "text/plain": [
       "<networkx.classes.graph.Graph at 0x2ac557e709a0>"
      ]
     },
     "execution_count": 40,
     "metadata": {},
     "output_type": "execute_result"
    }
   ],
   "source": [
    "G"
   ]
  },
  {
   "cell_type": "code",
   "execution_count": 42,
   "id": "7be4deb4-ed07-4b38-9df3-8bd033ec6717",
   "metadata": {
    "id": "7be4deb4-ed07-4b38-9df3-8bd033ec6717",
    "tags": []
   },
   "outputs": [],
   "source": [
    "nx.write_graphml(G, f\"/lila/data/deyk/fabiha/20231112_dingyu/{name}.graphml\")"
   ]
  },
  {
   "cell_type": "code",
   "execution_count": 41,
   "id": "87ff7582-e943-471c-b7c9-d9ea24c04b4b",
   "metadata": {},
   "outputs": [
    {
     "data": {
      "text/plain": [
       "'d18_ko_deg_padj05'"
      ]
     },
     "execution_count": 41,
     "metadata": {},
     "output_type": "execute_result"
    }
   ],
   "source": [
    "name"
   ]
  },
  {
   "cell_type": "code",
   "execution_count": null,
   "id": "795df83e-5fc8-4ed8-95fd-63ef85da8a5a",
   "metadata": {},
   "outputs": [],
   "source": []
  }
 ],
 "metadata": {
  "kernelspec": {
   "display_name": "Python 3 (ipykernel)",
   "language": "python",
   "name": "python3"
  },
  "language_info": {
   "codemirror_mode": {
    "name": "ipython",
    "version": 3
   },
   "file_extension": ".py",
   "mimetype": "text/x-python",
   "name": "python",
   "nbconvert_exporter": "python",
   "pygments_lexer": "ipython3",
   "version": "3.9.7"
  }
 },
 "nbformat": 4,
 "nbformat_minor": 5
}
